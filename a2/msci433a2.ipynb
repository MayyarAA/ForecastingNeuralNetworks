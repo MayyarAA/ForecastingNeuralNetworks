{
 "cells": [
  {
   "cell_type": "code",
   "execution_count": 209,
   "metadata": {},
   "outputs": [],
   "source": [
    "import numpy as np\n",
    "import scipy\n",
    "import pandas\n",
    "import matplotlib.pyplot as plt\n",
    "import sklearn    \n",
    "from sklearn.model_selection import train_test_split\n",
    "from sklearn.linear_model import LinearRegression\n",
    "from sklearn.linear_model import LogisticRegression\n",
    "# confusion matrix in sklearn\n",
    "from sklearn.metrics import confusion_matrix\n",
    "from sklearn.metrics import classification_report\n"
   ]
  },
  {
   "cell_type": "code",
   "execution_count": 210,
   "metadata": {},
   "outputs": [
    {
     "name": "stdout",
     "output_type": "stream",
     "text": [
      "here\n"
     ]
    }
   ],
   "source": [
    "print(\"here\")"
   ]
  },
  {
   "cell_type": "code",
   "execution_count": 211,
   "metadata": {},
   "outputs": [],
   "source": [
    "%%capture\n",
    "data1.groupby(by=\"Year\").count()"
   ]
  },
  {
   "cell_type": "code",
   "execution_count": 214,
   "metadata": {},
   "outputs": [
    {
     "data": {
      "text/plain": [
       "0.8073770491803278"
      ]
     },
     "execution_count": 214,
     "metadata": {},
     "output_type": "execute_result"
    }
   ],
   "source": [
    "#1.b.i) Year as Independent Variable \n",
    "XYear = np.array(data1.iloc[:,3])\n",
    "YWorldSeries = data1['WonWorldSeries']\n",
    "model = LogisticRegression()\n",
    "model.fit(XYear.reshape(-1, 1),YWorldSeries)\n",
    "model.score(XYear.reshape(-1, 1),YWorldSeries)"
   ]
  },
  {
   "cell_type": "code",
   "execution_count": 208,
   "metadata": {},
   "outputs": [],
   "source": [
    "#turn Leagure into binary categoracla data \n",
    "data1.loc[data1.League == 'AL','AL'] = 0\n",
    "data1.loc[data1.League == 'NL', 'NL'] = 1"
   ]
  },
  {
   "cell_type": "code",
   "execution_count": 213,
   "metadata": {},
   "outputs": [
    {
     "data": {
      "text/html": [
       "<div>\n",
       "<style scoped>\n",
       "    .dataframe tbody tr th:only-of-type {\n",
       "        vertical-align: middle;\n",
       "    }\n",
       "\n",
       "    .dataframe tbody tr th {\n",
       "        vertical-align: top;\n",
       "    }\n",
       "\n",
       "    .dataframe thead th {\n",
       "        text-align: right;\n",
       "    }\n",
       "</style>\n",
       "<table border=\"1\" class=\"dataframe\">\n",
       "  <thead>\n",
       "    <tr style=\"text-align: right;\">\n",
       "      <th></th>\n",
       "      <th>Team</th>\n",
       "      <th>League</th>\n",
       "      <th>Year</th>\n",
       "      <th>RS</th>\n",
       "      <th>RA</th>\n",
       "      <th>W</th>\n",
       "      <th>OBP</th>\n",
       "      <th>SLG</th>\n",
       "      <th>BA</th>\n",
       "      <th>RankSeason</th>\n",
       "      <th>RankPlayoffs</th>\n",
       "      <th>NumCompetitors</th>\n",
       "      <th>WonWorldSeries</th>\n",
       "    </tr>\n",
       "  </thead>\n",
       "  <tbody>\n",
       "    <tr>\n",
       "      <th>0</th>\n",
       "      <td>NYY</td>\n",
       "      <td>AL</td>\n",
       "      <td>1962</td>\n",
       "      <td>817</td>\n",
       "      <td>680</td>\n",
       "      <td>96</td>\n",
       "      <td>0.337</td>\n",
       "      <td>0.426</td>\n",
       "      <td>0.267</td>\n",
       "      <td>2</td>\n",
       "      <td>1</td>\n",
       "      <td>2</td>\n",
       "      <td>1</td>\n",
       "    </tr>\n",
       "    <tr>\n",
       "      <th>1</th>\n",
       "      <td>SFG</td>\n",
       "      <td>NL</td>\n",
       "      <td>1962</td>\n",
       "      <td>878</td>\n",
       "      <td>690</td>\n",
       "      <td>103</td>\n",
       "      <td>0.341</td>\n",
       "      <td>0.441</td>\n",
       "      <td>0.278</td>\n",
       "      <td>1</td>\n",
       "      <td>2</td>\n",
       "      <td>2</td>\n",
       "      <td>0</td>\n",
       "    </tr>\n",
       "    <tr>\n",
       "      <th>2</th>\n",
       "      <td>LAD</td>\n",
       "      <td>NL</td>\n",
       "      <td>1963</td>\n",
       "      <td>640</td>\n",
       "      <td>550</td>\n",
       "      <td>99</td>\n",
       "      <td>0.309</td>\n",
       "      <td>0.357</td>\n",
       "      <td>0.251</td>\n",
       "      <td>2</td>\n",
       "      <td>1</td>\n",
       "      <td>2</td>\n",
       "      <td>1</td>\n",
       "    </tr>\n",
       "    <tr>\n",
       "      <th>3</th>\n",
       "      <td>NYY</td>\n",
       "      <td>AL</td>\n",
       "      <td>1963</td>\n",
       "      <td>714</td>\n",
       "      <td>547</td>\n",
       "      <td>104</td>\n",
       "      <td>0.309</td>\n",
       "      <td>0.403</td>\n",
       "      <td>0.252</td>\n",
       "      <td>1</td>\n",
       "      <td>2</td>\n",
       "      <td>2</td>\n",
       "      <td>0</td>\n",
       "    </tr>\n",
       "    <tr>\n",
       "      <th>4</th>\n",
       "      <td>NYY</td>\n",
       "      <td>AL</td>\n",
       "      <td>1964</td>\n",
       "      <td>730</td>\n",
       "      <td>577</td>\n",
       "      <td>99</td>\n",
       "      <td>0.317</td>\n",
       "      <td>0.387</td>\n",
       "      <td>0.253</td>\n",
       "      <td>1</td>\n",
       "      <td>2</td>\n",
       "      <td>2</td>\n",
       "      <td>0</td>\n",
       "    </tr>\n",
       "  </tbody>\n",
       "</table>\n",
       "</div>"
      ],
      "text/plain": [
       "  Team League  Year   RS   RA    W    OBP    SLG     BA  RankSeason  \\\n",
       "0  NYY     AL  1962  817  680   96  0.337  0.426  0.267           2   \n",
       "1  SFG     NL  1962  878  690  103  0.341  0.441  0.278           1   \n",
       "2  LAD     NL  1963  640  550   99  0.309  0.357  0.251           2   \n",
       "3  NYY     AL  1963  714  547  104  0.309  0.403  0.252           1   \n",
       "4  NYY     AL  1964  730  577   99  0.317  0.387  0.253           1   \n",
       "\n",
       "   RankPlayoffs  NumCompetitors  WonWorldSeries  \n",
       "0             1               2               1  \n",
       "1             2               2               0  \n",
       "2             1               2               1  \n",
       "3             2               2               0  \n",
       "4             2               2               0  "
      ]
     },
     "execution_count": 213,
     "metadata": {},
     "output_type": "execute_result"
    }
   ],
   "source": [
    "data1 = pandas.read_csv(\"./baseball.csv\")\n",
    "data1.head()"
   ]
  },
  {
   "cell_type": "code",
   "execution_count": 235,
   "metadata": {},
   "outputs": [],
   "source": [
    "def GenerateLogisticModel(arr,dependent):\n",
    "    model_score=0;\n",
    "    model = LogisticRegression()\n",
    "    modelRA.fit(arr.reshape(-1, 1),dependent)\n",
    "    model_score = modelRA.score(arr.reshape(-1, 1),dependent)\n",
    "    print(model.coef())\n",
    "    return model_score"
   ]
  },
  {
   "cell_type": "code",
   "execution_count": null,
   "metadata": {},
   "outputs": [],
   "source": []
  },
  {
   "cell_type": "code",
   "execution_count": 236,
   "metadata": {},
   "outputs": [
    {
     "ename": "AttributeError",
     "evalue": "'LogisticRegression' object has no attribute 'coef'",
     "output_type": "error",
     "traceback": [
      "\u001b[0;31m---------------------------------------------------------------------------\u001b[0m",
      "\u001b[0;31mAttributeError\u001b[0m                            Traceback (most recent call last)",
      "\u001b[0;32m<ipython-input-236-ebe84e621ef3>\u001b[0m in \u001b[0;36m<module>\u001b[0;34m\u001b[0m\n\u001b[1;32m      1\u001b[0m \u001b[0;31m#1.b.i) Year as Independent Variable\u001b[0m\u001b[0;34m\u001b[0m\u001b[0;34m\u001b[0m\u001b[0;34m\u001b[0m\u001b[0m\n\u001b[0;32m----> 2\u001b[0;31m \u001b[0mprint\u001b[0m\u001b[0;34m(\u001b[0m\u001b[0;34m\"score for Year: \"\u001b[0m\u001b[0;34m,\u001b[0m \u001b[0mGenerateLogisticModel\u001b[0m\u001b[0;34m(\u001b[0m\u001b[0mnp\u001b[0m\u001b[0;34m.\u001b[0m\u001b[0marray\u001b[0m\u001b[0;34m(\u001b[0m\u001b[0mdata1\u001b[0m\u001b[0;34m.\u001b[0m\u001b[0miloc\u001b[0m\u001b[0;34m[\u001b[0m\u001b[0;34m:\u001b[0m\u001b[0;34m,\u001b[0m\u001b[0;36m3\u001b[0m\u001b[0;34m]\u001b[0m\u001b[0;34m)\u001b[0m\u001b[0;34m,\u001b[0m\u001b[0mYWorldSeries\u001b[0m \u001b[0;34m)\u001b[0m\u001b[0;34m)\u001b[0m\u001b[0;34m\u001b[0m\u001b[0;34m\u001b[0m\u001b[0m\n\u001b[0m\u001b[1;32m      3\u001b[0m \u001b[0;31m#1.b.i) RS as Independent Variable\u001b[0m\u001b[0;34m\u001b[0m\u001b[0;34m\u001b[0m\u001b[0;34m\u001b[0m\u001b[0m\n\u001b[1;32m      4\u001b[0m \u001b[0mprint\u001b[0m\u001b[0;34m(\u001b[0m\u001b[0;34m\"score for RS: \"\u001b[0m\u001b[0;34m,\u001b[0m \u001b[0mGenerateLogisticModel\u001b[0m\u001b[0;34m(\u001b[0m\u001b[0mnp\u001b[0m\u001b[0;34m.\u001b[0m\u001b[0marray\u001b[0m\u001b[0;34m(\u001b[0m\u001b[0mdata1\u001b[0m\u001b[0;34m.\u001b[0m\u001b[0miloc\u001b[0m\u001b[0;34m[\u001b[0m\u001b[0;34m:\u001b[0m\u001b[0;34m,\u001b[0m\u001b[0;36m4\u001b[0m\u001b[0;34m]\u001b[0m\u001b[0;34m)\u001b[0m\u001b[0;34m,\u001b[0m\u001b[0mYWorldSeries\u001b[0m \u001b[0;34m)\u001b[0m\u001b[0;34m)\u001b[0m\u001b[0;34m\u001b[0m\u001b[0;34m\u001b[0m\u001b[0m\n\u001b[1;32m      5\u001b[0m \u001b[0;31m#1.b.i) RA as Independent Variable\u001b[0m\u001b[0;34m\u001b[0m\u001b[0;34m\u001b[0m\u001b[0;34m\u001b[0m\u001b[0m\n",
      "\u001b[0;32m<ipython-input-235-e46c75d69453>\u001b[0m in \u001b[0;36mGenerateLogisticModel\u001b[0;34m(arr, dependent)\u001b[0m\n\u001b[1;32m      4\u001b[0m     \u001b[0mmodelRA\u001b[0m\u001b[0;34m.\u001b[0m\u001b[0mfit\u001b[0m\u001b[0;34m(\u001b[0m\u001b[0marr\u001b[0m\u001b[0;34m.\u001b[0m\u001b[0mreshape\u001b[0m\u001b[0;34m(\u001b[0m\u001b[0;34m-\u001b[0m\u001b[0;36m1\u001b[0m\u001b[0;34m,\u001b[0m \u001b[0;36m1\u001b[0m\u001b[0;34m)\u001b[0m\u001b[0;34m,\u001b[0m\u001b[0mdependent\u001b[0m\u001b[0;34m)\u001b[0m\u001b[0;34m\u001b[0m\u001b[0;34m\u001b[0m\u001b[0m\n\u001b[1;32m      5\u001b[0m     \u001b[0mmodel_score\u001b[0m \u001b[0;34m=\u001b[0m \u001b[0mmodelRA\u001b[0m\u001b[0;34m.\u001b[0m\u001b[0mscore\u001b[0m\u001b[0;34m(\u001b[0m\u001b[0marr\u001b[0m\u001b[0;34m.\u001b[0m\u001b[0mreshape\u001b[0m\u001b[0;34m(\u001b[0m\u001b[0;34m-\u001b[0m\u001b[0;36m1\u001b[0m\u001b[0;34m,\u001b[0m \u001b[0;36m1\u001b[0m\u001b[0;34m)\u001b[0m\u001b[0;34m,\u001b[0m\u001b[0mdependent\u001b[0m\u001b[0;34m)\u001b[0m\u001b[0;34m\u001b[0m\u001b[0;34m\u001b[0m\u001b[0m\n\u001b[0;32m----> 6\u001b[0;31m     \u001b[0mprint\u001b[0m\u001b[0;34m(\u001b[0m\u001b[0mmodel\u001b[0m\u001b[0;34m.\u001b[0m\u001b[0mcoef\u001b[0m\u001b[0;34m(\u001b[0m\u001b[0;34m)\u001b[0m\u001b[0;34m)\u001b[0m\u001b[0;34m\u001b[0m\u001b[0;34m\u001b[0m\u001b[0m\n\u001b[0m\u001b[1;32m      7\u001b[0m     \u001b[0;32mreturn\u001b[0m \u001b[0mmodel_score\u001b[0m\u001b[0;34m\u001b[0m\u001b[0;34m\u001b[0m\u001b[0m\n",
      "\u001b[0;31mAttributeError\u001b[0m: 'LogisticRegression' object has no attribute 'coef'"
     ]
    }
   ],
   "source": [
    "#1.b.i) Year as Independent Variable \n",
    "print(\"score for Year: \", GenerateLogisticModel(np.array(data1.iloc[:,3]),YWorldSeries ))\n",
    "#1.b.i) RS as Independent Variable \n",
    "print(\"score for RS: \", GenerateLogisticModel(np.array(data1.iloc[:,4]),YWorldSeries ))\n",
    "#1.b.i) RA as Independent Variable \n",
    "print(\"score for RA: \", GenerateLogisticModel(np.array(data1.iloc[:,5]),YWorldSeries ))\n",
    "#1.b.i) W as Independent Variable \n",
    "print(\"score for W: \", GenerateLogisticModel(np.array(data1.iloc[:,6]),YWorldSeries ))\n",
    "#1.b.i) OBP as Independent Variable \n",
    "print(\"score for OBP: \", GenerateLogisticModel(np.array(data1.iloc[:,7]),YWorldSeries ))\n",
    "#1.b.i) SLG as Independent Variable \n",
    "print(\"score for SLG: \", GenerateLogisticModel(np.array(data1.iloc[:,8]),YWorldSeries ))\n",
    "#1.b.i) BA as Independent Variable \n",
    "print(\"score for BA: \", GenerateLogisticModel(np.array(data1.iloc[:,9]),YWorldSeries ))\n",
    "#1.b.i) RankSeason as Independent Variable \n",
    "print(\"score for RankSeason: \", GenerateLogisticModel(np.array(data1.iloc[:,10]),YWorldSeries ))\n",
    "#1.b.i) NumCompetitors as Independent Variable \n",
    "print(\"score for NumCompetitors: \", GenerateLogisticModel(np.array(data1.iloc[:,12]),YWorldSeries ))\n",
    "#1.b.i) League as Independent Variable \n",
    "print(\"score for League: \", GenerateLogisticModel(np.array(data1.iloc[:,3]),YWorldSeries ))"
   ]
  },
  {
   "cell_type": "code",
   "execution_count": 227,
   "metadata": {},
   "outputs": [
    {
     "name": "stdout",
     "output_type": "stream",
     "text": [
      "model score 1.b.ii  0.8073770491803278\n"
     ]
    }
   ],
   "source": [
    "#1.b.ii) RS,RA,NumCompetitors,RankSeason as Independent Variable \n",
    "coloumns_1bii = ['RS','RA','NumCompetitors','RankSeason']\n",
    "X_1bii=data1[coloumns_1bii].copy()\n",
    "YWorldSeries_1biii = data1['WonWorldSeries']\n",
    "model = LogisticRegression()\n",
    "model.fit(X=X_1bii, y=YWorldSeries_1biii)\n",
    "print(\"model score 1.b.ii \" , model.score(X=X_1bii, y=YWorldSeries_1biii))"
   ]
  },
  {
   "cell_type": "code",
   "execution_count": 228,
   "metadata": {},
   "outputs": [
    {
     "ename": "ValueError",
     "evalue": "Expected 2D array, got 1D array instead:\narray=[ 817  878  640  714  730  715  608  774  755  606  722  695  671  583\n  691  779  790  632  792  775  744  729  742  691  788  706  754  741\n  608  758  659  798  689  751  796  840  758  712  857  713  730  770\n  822  769  831  847  743  727  735  708  757  866  731  775  637  809\n  820  728  739  814  891  685  799  800  654  696  762  829  673  686\n  687  682  747  759  794  786  654  783  896  786  783  798  813  628\n  703  800  702  712  699  731  699  693  733  733  749  776  768  684\n  682  745  693  780  767  776  877  847  773  949  952  703  871  771\n  759  928  791  812  868  740  777  891  925  784  826  876  831  850\n  874  965  749  940  908  840  836 1009  823  853  900  945  810  978\n  807  871  947  907  925  887  818  729  897  847  804  884  927  814\n  851  819  708  768  897  800  783  787  907  961  724  751  801  877\n  768  755  836  803  949  803  761  780  897  855  769  910  741  693\n  761  886  684  805  822  820  801  834  930  771  731  781  712  867\n  752  811  860  822  968  892  845  855  811  765  700  750  799  774\n  872  804  883  780  817  915  820  730  738  790  781  859  772  697\n  802  787  731  787  721  867  713  762  707  855  700  712  669  726\n  804  713  718  765  808  731].\nReshape your data either using array.reshape(-1, 1) if your data has a single feature or array.reshape(1, -1) if it contains a single sample.",
     "output_type": "error",
     "traceback": [
      "\u001b[0;31m---------------------------------------------------------------------------\u001b[0m",
      "\u001b[0;31mValueError\u001b[0m                                Traceback (most recent call last)",
      "\u001b[0;32m<ipython-input-228-e269897cfe09>\u001b[0m in \u001b[0;36m<module>\u001b[0;34m\u001b[0m\n\u001b[1;32m      1\u001b[0m \u001b[0mcoefficients\u001b[0m \u001b[0;34m=\u001b[0m \u001b[0mpandas\u001b[0m\u001b[0;34m.\u001b[0m\u001b[0mDataFrame\u001b[0m\u001b[0;34m(\u001b[0m\u001b[0mmodel\u001b[0m\u001b[0;34m.\u001b[0m\u001b[0mcoef_\u001b[0m\u001b[0;34m.\u001b[0m\u001b[0mT\u001b[0m\u001b[0;34m,\u001b[0m \u001b[0mcoloumns_1bii\u001b[0m\u001b[0;34m,\u001b[0m\u001b[0mcolumns\u001b[0m\u001b[0;34m=\u001b[0m\u001b[0;34m[\u001b[0m\u001b[0;34m'Coefficient'\u001b[0m\u001b[0;34m]\u001b[0m\u001b[0;34m)\u001b[0m\u001b[0;34m\u001b[0m\u001b[0;34m\u001b[0m\u001b[0m\n\u001b[0;32m----> 2\u001b[0;31m \u001b[0mprint\u001b[0m\u001b[0;34m(\u001b[0m\u001b[0;34mf'Intercept: {model.intercept_}\\tR2: {model.score(XYear, data1.WonWorldSeries)}'\u001b[0m\u001b[0;34m)\u001b[0m\u001b[0;34m\u001b[0m\u001b[0;34m\u001b[0m\u001b[0m\n\u001b[0m\u001b[1;32m      3\u001b[0m \u001b[0mcoefficients\u001b[0m\u001b[0;34m\u001b[0m\u001b[0;34m\u001b[0m\u001b[0m\n",
      "\u001b[0;32m~/opt/anaconda3/lib/python3.8/site-packages/sklearn/base.py\u001b[0m in \u001b[0;36mscore\u001b[0;34m(self, X, y, sample_weight)\u001b[0m\n\u001b[1;32m    497\u001b[0m         \"\"\"\n\u001b[1;32m    498\u001b[0m         \u001b[0;32mfrom\u001b[0m \u001b[0;34m.\u001b[0m\u001b[0mmetrics\u001b[0m \u001b[0;32mimport\u001b[0m \u001b[0maccuracy_score\u001b[0m\u001b[0;34m\u001b[0m\u001b[0;34m\u001b[0m\u001b[0m\n\u001b[0;32m--> 499\u001b[0;31m         \u001b[0;32mreturn\u001b[0m \u001b[0maccuracy_score\u001b[0m\u001b[0;34m(\u001b[0m\u001b[0my\u001b[0m\u001b[0;34m,\u001b[0m \u001b[0mself\u001b[0m\u001b[0;34m.\u001b[0m\u001b[0mpredict\u001b[0m\u001b[0;34m(\u001b[0m\u001b[0mX\u001b[0m\u001b[0;34m)\u001b[0m\u001b[0;34m,\u001b[0m \u001b[0msample_weight\u001b[0m\u001b[0;34m=\u001b[0m\u001b[0msample_weight\u001b[0m\u001b[0;34m)\u001b[0m\u001b[0;34m\u001b[0m\u001b[0;34m\u001b[0m\u001b[0m\n\u001b[0m\u001b[1;32m    500\u001b[0m \u001b[0;34m\u001b[0m\u001b[0m\n\u001b[1;32m    501\u001b[0m     \u001b[0;32mdef\u001b[0m \u001b[0m_more_tags\u001b[0m\u001b[0;34m(\u001b[0m\u001b[0mself\u001b[0m\u001b[0;34m)\u001b[0m\u001b[0;34m:\u001b[0m\u001b[0;34m\u001b[0m\u001b[0;34m\u001b[0m\u001b[0m\n",
      "\u001b[0;32m~/opt/anaconda3/lib/python3.8/site-packages/sklearn/linear_model/_base.py\u001b[0m in \u001b[0;36mpredict\u001b[0;34m(self, X)\u001b[0m\n\u001b[1;32m    305\u001b[0m             \u001b[0mPredicted\u001b[0m \u001b[0;32mclass\u001b[0m \u001b[0mlabel\u001b[0m \u001b[0mper\u001b[0m \u001b[0msample\u001b[0m\u001b[0;34m.\u001b[0m\u001b[0;34m\u001b[0m\u001b[0;34m\u001b[0m\u001b[0m\n\u001b[1;32m    306\u001b[0m         \"\"\"\n\u001b[0;32m--> 307\u001b[0;31m         \u001b[0mscores\u001b[0m \u001b[0;34m=\u001b[0m \u001b[0mself\u001b[0m\u001b[0;34m.\u001b[0m\u001b[0mdecision_function\u001b[0m\u001b[0;34m(\u001b[0m\u001b[0mX\u001b[0m\u001b[0;34m)\u001b[0m\u001b[0;34m\u001b[0m\u001b[0;34m\u001b[0m\u001b[0m\n\u001b[0m\u001b[1;32m    308\u001b[0m         \u001b[0;32mif\u001b[0m \u001b[0mlen\u001b[0m\u001b[0;34m(\u001b[0m\u001b[0mscores\u001b[0m\u001b[0;34m.\u001b[0m\u001b[0mshape\u001b[0m\u001b[0;34m)\u001b[0m \u001b[0;34m==\u001b[0m \u001b[0;36m1\u001b[0m\u001b[0;34m:\u001b[0m\u001b[0;34m\u001b[0m\u001b[0;34m\u001b[0m\u001b[0m\n\u001b[1;32m    309\u001b[0m             \u001b[0mindices\u001b[0m \u001b[0;34m=\u001b[0m \u001b[0;34m(\u001b[0m\u001b[0mscores\u001b[0m \u001b[0;34m>\u001b[0m \u001b[0;36m0\u001b[0m\u001b[0;34m)\u001b[0m\u001b[0;34m.\u001b[0m\u001b[0mastype\u001b[0m\u001b[0;34m(\u001b[0m\u001b[0mnp\u001b[0m\u001b[0;34m.\u001b[0m\u001b[0mint\u001b[0m\u001b[0;34m)\u001b[0m\u001b[0;34m\u001b[0m\u001b[0;34m\u001b[0m\u001b[0m\n",
      "\u001b[0;32m~/opt/anaconda3/lib/python3.8/site-packages/sklearn/linear_model/_base.py\u001b[0m in \u001b[0;36mdecision_function\u001b[0;34m(self, X)\u001b[0m\n\u001b[1;32m    280\u001b[0m         \u001b[0mcheck_is_fitted\u001b[0m\u001b[0;34m(\u001b[0m\u001b[0mself\u001b[0m\u001b[0;34m)\u001b[0m\u001b[0;34m\u001b[0m\u001b[0;34m\u001b[0m\u001b[0m\n\u001b[1;32m    281\u001b[0m \u001b[0;34m\u001b[0m\u001b[0m\n\u001b[0;32m--> 282\u001b[0;31m         \u001b[0mX\u001b[0m \u001b[0;34m=\u001b[0m \u001b[0mcheck_array\u001b[0m\u001b[0;34m(\u001b[0m\u001b[0mX\u001b[0m\u001b[0;34m,\u001b[0m \u001b[0maccept_sparse\u001b[0m\u001b[0;34m=\u001b[0m\u001b[0;34m'csr'\u001b[0m\u001b[0;34m)\u001b[0m\u001b[0;34m\u001b[0m\u001b[0;34m\u001b[0m\u001b[0m\n\u001b[0m\u001b[1;32m    283\u001b[0m \u001b[0;34m\u001b[0m\u001b[0m\n\u001b[1;32m    284\u001b[0m         \u001b[0mn_features\u001b[0m \u001b[0;34m=\u001b[0m \u001b[0mself\u001b[0m\u001b[0;34m.\u001b[0m\u001b[0mcoef_\u001b[0m\u001b[0;34m.\u001b[0m\u001b[0mshape\u001b[0m\u001b[0;34m[\u001b[0m\u001b[0;36m1\u001b[0m\u001b[0;34m]\u001b[0m\u001b[0;34m\u001b[0m\u001b[0;34m\u001b[0m\u001b[0m\n",
      "\u001b[0;32m~/opt/anaconda3/lib/python3.8/site-packages/sklearn/utils/validation.py\u001b[0m in \u001b[0;36minner_f\u001b[0;34m(*args, **kwargs)\u001b[0m\n\u001b[1;32m     71\u001b[0m                           FutureWarning)\n\u001b[1;32m     72\u001b[0m         \u001b[0mkwargs\u001b[0m\u001b[0;34m.\u001b[0m\u001b[0mupdate\u001b[0m\u001b[0;34m(\u001b[0m\u001b[0;34m{\u001b[0m\u001b[0mk\u001b[0m\u001b[0;34m:\u001b[0m \u001b[0marg\u001b[0m \u001b[0;32mfor\u001b[0m \u001b[0mk\u001b[0m\u001b[0;34m,\u001b[0m \u001b[0marg\u001b[0m \u001b[0;32min\u001b[0m \u001b[0mzip\u001b[0m\u001b[0;34m(\u001b[0m\u001b[0msig\u001b[0m\u001b[0;34m.\u001b[0m\u001b[0mparameters\u001b[0m\u001b[0;34m,\u001b[0m \u001b[0margs\u001b[0m\u001b[0;34m)\u001b[0m\u001b[0;34m}\u001b[0m\u001b[0;34m)\u001b[0m\u001b[0;34m\u001b[0m\u001b[0;34m\u001b[0m\u001b[0m\n\u001b[0;32m---> 73\u001b[0;31m         \u001b[0;32mreturn\u001b[0m \u001b[0mf\u001b[0m\u001b[0;34m(\u001b[0m\u001b[0;34m**\u001b[0m\u001b[0mkwargs\u001b[0m\u001b[0;34m)\u001b[0m\u001b[0;34m\u001b[0m\u001b[0;34m\u001b[0m\u001b[0m\n\u001b[0m\u001b[1;32m     74\u001b[0m     \u001b[0;32mreturn\u001b[0m \u001b[0minner_f\u001b[0m\u001b[0;34m\u001b[0m\u001b[0;34m\u001b[0m\u001b[0m\n\u001b[1;32m     75\u001b[0m \u001b[0;34m\u001b[0m\u001b[0m\n",
      "\u001b[0;32m~/opt/anaconda3/lib/python3.8/site-packages/sklearn/utils/validation.py\u001b[0m in \u001b[0;36mcheck_array\u001b[0;34m(array, accept_sparse, accept_large_sparse, dtype, order, copy, force_all_finite, ensure_2d, allow_nd, ensure_min_samples, ensure_min_features, estimator)\u001b[0m\n\u001b[1;32m    618\u001b[0m             \u001b[0;31m# If input is 1D raise error\u001b[0m\u001b[0;34m\u001b[0m\u001b[0;34m\u001b[0m\u001b[0;34m\u001b[0m\u001b[0m\n\u001b[1;32m    619\u001b[0m             \u001b[0;32mif\u001b[0m \u001b[0marray\u001b[0m\u001b[0;34m.\u001b[0m\u001b[0mndim\u001b[0m \u001b[0;34m==\u001b[0m \u001b[0;36m1\u001b[0m\u001b[0;34m:\u001b[0m\u001b[0;34m\u001b[0m\u001b[0;34m\u001b[0m\u001b[0m\n\u001b[0;32m--> 620\u001b[0;31m                 raise ValueError(\n\u001b[0m\u001b[1;32m    621\u001b[0m                     \u001b[0;34m\"Expected 2D array, got 1D array instead:\\narray={}.\\n\"\u001b[0m\u001b[0;34m\u001b[0m\u001b[0;34m\u001b[0m\u001b[0m\n\u001b[1;32m    622\u001b[0m                     \u001b[0;34m\"Reshape your data either using array.reshape(-1, 1) if \"\u001b[0m\u001b[0;34m\u001b[0m\u001b[0;34m\u001b[0m\u001b[0m\n",
      "\u001b[0;31mValueError\u001b[0m: Expected 2D array, got 1D array instead:\narray=[ 817  878  640  714  730  715  608  774  755  606  722  695  671  583\n  691  779  790  632  792  775  744  729  742  691  788  706  754  741\n  608  758  659  798  689  751  796  840  758  712  857  713  730  770\n  822  769  831  847  743  727  735  708  757  866  731  775  637  809\n  820  728  739  814  891  685  799  800  654  696  762  829  673  686\n  687  682  747  759  794  786  654  783  896  786  783  798  813  628\n  703  800  702  712  699  731  699  693  733  733  749  776  768  684\n  682  745  693  780  767  776  877  847  773  949  952  703  871  771\n  759  928  791  812  868  740  777  891  925  784  826  876  831  850\n  874  965  749  940  908  840  836 1009  823  853  900  945  810  978\n  807  871  947  907  925  887  818  729  897  847  804  884  927  814\n  851  819  708  768  897  800  783  787  907  961  724  751  801  877\n  768  755  836  803  949  803  761  780  897  855  769  910  741  693\n  761  886  684  805  822  820  801  834  930  771  731  781  712  867\n  752  811  860  822  968  892  845  855  811  765  700  750  799  774\n  872  804  883  780  817  915  820  730  738  790  781  859  772  697\n  802  787  731  787  721  867  713  762  707  855  700  712  669  726\n  804  713  718  765  808  731].\nReshape your data either using array.reshape(-1, 1) if your data has a single feature or array.reshape(1, -1) if it contains a single sample."
     ]
    }
   ],
   "source": [
    "coefficients = pandas.DataFrame(model.coef_.T, coloumns_1bii,columns=['Coefficient'])\n",
    "print(f'Intercept: {model.intercept_}\\tR2: {model.score(XYear, data1.WonWorldSeries)}')\n",
    "coefficients"
   ]
  },
  {
   "cell_type": "code",
   "execution_count": 67,
   "metadata": {},
   "outputs": [
    {
     "data": {
      "text/html": [
       "<div>\n",
       "<style scoped>\n",
       "    .dataframe tbody tr th:only-of-type {\n",
       "        vertical-align: middle;\n",
       "    }\n",
       "\n",
       "    .dataframe tbody tr th {\n",
       "        vertical-align: top;\n",
       "    }\n",
       "\n",
       "    .dataframe thead th {\n",
       "        text-align: right;\n",
       "    }\n",
       "</style>\n",
       "<table border=\"1\" class=\"dataframe\">\n",
       "  <thead>\n",
       "    <tr style=\"text-align: right;\">\n",
       "      <th></th>\n",
       "      <th>Male</th>\n",
       "      <th>RaceWhite</th>\n",
       "      <th>Age</th>\n",
       "      <th>State</th>\n",
       "      <th>TimeServed</th>\n",
       "      <th>MaxSentence</th>\n",
       "      <th>MultipleOffenses</th>\n",
       "      <th>Crime</th>\n",
       "      <th>Violator</th>\n",
       "    </tr>\n",
       "  </thead>\n",
       "  <tbody>\n",
       "    <tr>\n",
       "      <th>0</th>\n",
       "      <td>1</td>\n",
       "      <td>1</td>\n",
       "      <td>33.2</td>\n",
       "      <td>Other</td>\n",
       "      <td>5.5</td>\n",
       "      <td>18</td>\n",
       "      <td>0</td>\n",
       "      <td>Driving</td>\n",
       "      <td>0</td>\n",
       "    </tr>\n",
       "    <tr>\n",
       "      <th>1</th>\n",
       "      <td>0</td>\n",
       "      <td>1</td>\n",
       "      <td>39.7</td>\n",
       "      <td>Other</td>\n",
       "      <td>5.4</td>\n",
       "      <td>12</td>\n",
       "      <td>0</td>\n",
       "      <td>Drugs</td>\n",
       "      <td>0</td>\n",
       "    </tr>\n",
       "    <tr>\n",
       "      <th>2</th>\n",
       "      <td>1</td>\n",
       "      <td>0</td>\n",
       "      <td>29.5</td>\n",
       "      <td>Other</td>\n",
       "      <td>5.6</td>\n",
       "      <td>12</td>\n",
       "      <td>0</td>\n",
       "      <td>Drugs</td>\n",
       "      <td>0</td>\n",
       "    </tr>\n",
       "    <tr>\n",
       "      <th>3</th>\n",
       "      <td>1</td>\n",
       "      <td>1</td>\n",
       "      <td>22.4</td>\n",
       "      <td>Other</td>\n",
       "      <td>5.7</td>\n",
       "      <td>18</td>\n",
       "      <td>0</td>\n",
       "      <td>Other</td>\n",
       "      <td>0</td>\n",
       "    </tr>\n",
       "    <tr>\n",
       "      <th>4</th>\n",
       "      <td>1</td>\n",
       "      <td>0</td>\n",
       "      <td>21.6</td>\n",
       "      <td>Other</td>\n",
       "      <td>5.4</td>\n",
       "      <td>12</td>\n",
       "      <td>0</td>\n",
       "      <td>Other</td>\n",
       "      <td>0</td>\n",
       "    </tr>\n",
       "    <tr>\n",
       "      <th>5</th>\n",
       "      <td>1</td>\n",
       "      <td>0</td>\n",
       "      <td>46.7</td>\n",
       "      <td>Other</td>\n",
       "      <td>6.0</td>\n",
       "      <td>18</td>\n",
       "      <td>0</td>\n",
       "      <td>Driving</td>\n",
       "      <td>0</td>\n",
       "    </tr>\n",
       "    <tr>\n",
       "      <th>6</th>\n",
       "      <td>1</td>\n",
       "      <td>1</td>\n",
       "      <td>31.0</td>\n",
       "      <td>Other</td>\n",
       "      <td>6.0</td>\n",
       "      <td>18</td>\n",
       "      <td>0</td>\n",
       "      <td>Drugs</td>\n",
       "      <td>0</td>\n",
       "    </tr>\n",
       "    <tr>\n",
       "      <th>7</th>\n",
       "      <td>0</td>\n",
       "      <td>1</td>\n",
       "      <td>24.6</td>\n",
       "      <td>Other</td>\n",
       "      <td>4.8</td>\n",
       "      <td>12</td>\n",
       "      <td>0</td>\n",
       "      <td>Other</td>\n",
       "      <td>0</td>\n",
       "    </tr>\n",
       "    <tr>\n",
       "      <th>8</th>\n",
       "      <td>0</td>\n",
       "      <td>1</td>\n",
       "      <td>32.6</td>\n",
       "      <td>Other</td>\n",
       "      <td>4.5</td>\n",
       "      <td>13</td>\n",
       "      <td>0</td>\n",
       "      <td>Drugs</td>\n",
       "      <td>0</td>\n",
       "    </tr>\n",
       "    <tr>\n",
       "      <th>9</th>\n",
       "      <td>1</td>\n",
       "      <td>0</td>\n",
       "      <td>29.1</td>\n",
       "      <td>Other</td>\n",
       "      <td>4.7</td>\n",
       "      <td>12</td>\n",
       "      <td>0</td>\n",
       "      <td>Larceny</td>\n",
       "      <td>0</td>\n",
       "    </tr>\n",
       "    <tr>\n",
       "      <th>10</th>\n",
       "      <td>0</td>\n",
       "      <td>0</td>\n",
       "      <td>28.4</td>\n",
       "      <td>Other</td>\n",
       "      <td>4.5</td>\n",
       "      <td>12</td>\n",
       "      <td>1</td>\n",
       "      <td>Other</td>\n",
       "      <td>0</td>\n",
       "    </tr>\n",
       "    <tr>\n",
       "      <th>11</th>\n",
       "      <td>1</td>\n",
       "      <td>1</td>\n",
       "      <td>20.5</td>\n",
       "      <td>Other</td>\n",
       "      <td>5.9</td>\n",
       "      <td>12</td>\n",
       "      <td>0</td>\n",
       "      <td>Other</td>\n",
       "      <td>0</td>\n",
       "    </tr>\n",
       "    <tr>\n",
       "      <th>12</th>\n",
       "      <td>1</td>\n",
       "      <td>1</td>\n",
       "      <td>30.1</td>\n",
       "      <td>Other</td>\n",
       "      <td>5.3</td>\n",
       "      <td>16</td>\n",
       "      <td>0</td>\n",
       "      <td>Drugs</td>\n",
       "      <td>0</td>\n",
       "    </tr>\n",
       "    <tr>\n",
       "      <th>13</th>\n",
       "      <td>1</td>\n",
       "      <td>1</td>\n",
       "      <td>37.8</td>\n",
       "      <td>Other</td>\n",
       "      <td>5.3</td>\n",
       "      <td>8</td>\n",
       "      <td>0</td>\n",
       "      <td>Drugs</td>\n",
       "      <td>0</td>\n",
       "    </tr>\n",
       "    <tr>\n",
       "      <th>14</th>\n",
       "      <td>1</td>\n",
       "      <td>1</td>\n",
       "      <td>41.7</td>\n",
       "      <td>Other</td>\n",
       "      <td>5.5</td>\n",
       "      <td>8</td>\n",
       "      <td>0</td>\n",
       "      <td>Drugs</td>\n",
       "      <td>0</td>\n",
       "    </tr>\n",
       "    <tr>\n",
       "      <th>15</th>\n",
       "      <td>1</td>\n",
       "      <td>0</td>\n",
       "      <td>43.5</td>\n",
       "      <td>Other</td>\n",
       "      <td>5.2</td>\n",
       "      <td>8</td>\n",
       "      <td>0</td>\n",
       "      <td>Other</td>\n",
       "      <td>0</td>\n",
       "    </tr>\n",
       "    <tr>\n",
       "      <th>16</th>\n",
       "      <td>1</td>\n",
       "      <td>1</td>\n",
       "      <td>42.3</td>\n",
       "      <td>Other</td>\n",
       "      <td>4.8</td>\n",
       "      <td>16</td>\n",
       "      <td>0</td>\n",
       "      <td>Drugs</td>\n",
       "      <td>0</td>\n",
       "    </tr>\n",
       "    <tr>\n",
       "      <th>17</th>\n",
       "      <td>1</td>\n",
       "      <td>1</td>\n",
       "      <td>21.3</td>\n",
       "      <td>Other</td>\n",
       "      <td>5.1</td>\n",
       "      <td>8</td>\n",
       "      <td>0</td>\n",
       "      <td>Other</td>\n",
       "      <td>0</td>\n",
       "    </tr>\n",
       "    <tr>\n",
       "      <th>18</th>\n",
       "      <td>1</td>\n",
       "      <td>0</td>\n",
       "      <td>24.5</td>\n",
       "      <td>Other</td>\n",
       "      <td>6.0</td>\n",
       "      <td>16</td>\n",
       "      <td>0</td>\n",
       "      <td>Drugs</td>\n",
       "      <td>0</td>\n",
       "    </tr>\n",
       "    <tr>\n",
       "      <th>19</th>\n",
       "      <td>1</td>\n",
       "      <td>1</td>\n",
       "      <td>42.3</td>\n",
       "      <td>Other</td>\n",
       "      <td>5.8</td>\n",
       "      <td>16</td>\n",
       "      <td>0</td>\n",
       "      <td>Other</td>\n",
       "      <td>0</td>\n",
       "    </tr>\n",
       "  </tbody>\n",
       "</table>\n",
       "</div>"
      ],
      "text/plain": [
       "    Male  RaceWhite   Age  State  TimeServed  MaxSentence  MultipleOffenses  \\\n",
       "0      1          1  33.2  Other         5.5           18                 0   \n",
       "1      0          1  39.7  Other         5.4           12                 0   \n",
       "2      1          0  29.5  Other         5.6           12                 0   \n",
       "3      1          1  22.4  Other         5.7           18                 0   \n",
       "4      1          0  21.6  Other         5.4           12                 0   \n",
       "5      1          0  46.7  Other         6.0           18                 0   \n",
       "6      1          1  31.0  Other         6.0           18                 0   \n",
       "7      0          1  24.6  Other         4.8           12                 0   \n",
       "8      0          1  32.6  Other         4.5           13                 0   \n",
       "9      1          0  29.1  Other         4.7           12                 0   \n",
       "10     0          0  28.4  Other         4.5           12                 1   \n",
       "11     1          1  20.5  Other         5.9           12                 0   \n",
       "12     1          1  30.1  Other         5.3           16                 0   \n",
       "13     1          1  37.8  Other         5.3            8                 0   \n",
       "14     1          1  41.7  Other         5.5            8                 0   \n",
       "15     1          0  43.5  Other         5.2            8                 0   \n",
       "16     1          1  42.3  Other         4.8           16                 0   \n",
       "17     1          1  21.3  Other         5.1            8                 0   \n",
       "18     1          0  24.5  Other         6.0           16                 0   \n",
       "19     1          1  42.3  Other         5.8           16                 0   \n",
       "\n",
       "      Crime  Violator  \n",
       "0   Driving         0  \n",
       "1     Drugs         0  \n",
       "2     Drugs         0  \n",
       "3     Other         0  \n",
       "4     Other         0  \n",
       "5   Driving         0  \n",
       "6     Drugs         0  \n",
       "7     Other         0  \n",
       "8     Drugs         0  \n",
       "9   Larceny         0  \n",
       "10    Other         0  \n",
       "11    Other         0  \n",
       "12    Drugs         0  \n",
       "13    Drugs         0  \n",
       "14    Drugs         0  \n",
       "15    Other         0  \n",
       "16    Drugs         0  \n",
       "17    Other         0  \n",
       "18    Drugs         0  \n",
       "19    Other         0  "
      ]
     },
     "execution_count": 67,
     "metadata": {},
     "output_type": "execute_result"
    }
   ],
   "source": [
    "#Q2.a)\n",
    "data2 = pandas.read_csv(\"./parole.csv\")\n",
    "data2.head(20)"
   ]
  },
  {
   "cell_type": "code",
   "execution_count": 158,
   "metadata": {},
   "outputs": [
    {
     "data": {
      "text/plain": [
       "pandas.core.frame.DataFrame"
      ]
     },
     "execution_count": 158,
     "metadata": {},
     "output_type": "execute_result"
    }
   ],
   "source": [
    "data2.count()\n",
    "type(data2)"
   ]
  },
  {
   "cell_type": "code",
   "execution_count": 193,
   "metadata": {},
   "outputs": [],
   "source": [
    "# taking care of the categorical columns\n",
    "data2.loc[data2.State == 'Kentucky'] = 0\n",
    "data2.loc[data2.State == 'Louisiana'] = 1\n",
    "data2.loc[data2.State == 'Virginia'] = 2\n",
    "data2.loc[data2.State == 'Other'] = 3\n",
    "\n",
    "data2.loc[data2.Crime == 'Larceny'] = 0\n",
    "data2.loc[data2.Crime == 'Drugs'] = 1\n",
    "data2.loc[data2.Crime == 'Driving'] = 2\n",
    "data2.loc[data2.Crime == 'Other'] = 3"
   ]
  },
  {
   "cell_type": "code",
   "execution_count": 160,
   "metadata": {},
   "outputs": [],
   "source": [
    "#data2.head(20)"
   ]
  },
  {
   "cell_type": "code",
   "execution_count": 194,
   "metadata": {},
   "outputs": [
    {
     "name": "stdout",
     "output_type": "stream",
     "text": [
      "Male                0.115556\n",
      "RaceWhite           0.115556\n",
      "Age                 0.115556\n",
      "State               0.115556\n",
      "TimeServed          0.115556\n",
      "MaxSentence         0.115556\n",
      "MultipleOffenses    0.115556\n",
      "Crime               0.115556\n",
      "Violator            0.115556\n",
      "dtype: float64\n"
     ]
    }
   ],
   "source": [
    "#2.a)\n",
    "print(data2.loc[data2['Violator']==1].count()/data2.count())"
   ]
  },
  {
   "cell_type": "code",
   "execution_count": 162,
   "metadata": {},
   "outputs": [
    {
     "data": {
      "text/plain": [
       "LogisticRegression()"
      ]
     },
     "execution_count": 162,
     "metadata": {},
     "output_type": "execute_result"
    }
   ],
   "source": [
    "#2.b.i)\n",
    "X=data2.iloc[:,:8]\n",
    "#print(X.head())\n",
    "Y = data2['Violator']\n",
    "X_train, X_test, y_train, y_test = train_test_split(X,Y,test_size=0.3 )\n",
    "model = LogisticRegression()\n",
    "model.fit(X=X_train, y=y_train)"
   ]
  },
  {
   "cell_type": "code",
   "execution_count": 163,
   "metadata": {},
   "outputs": [
    {
     "name": "stdout",
     "output_type": "stream",
     "text": [
      "Intercept: [0.21755808]\tR2: 0.8844444444444445\n"
     ]
    },
    {
     "data": {
      "text/html": [
       "<div>\n",
       "<style scoped>\n",
       "    .dataframe tbody tr th:only-of-type {\n",
       "        vertical-align: middle;\n",
       "    }\n",
       "\n",
       "    .dataframe tbody tr th {\n",
       "        vertical-align: top;\n",
       "    }\n",
       "\n",
       "    .dataframe thead th {\n",
       "        text-align: right;\n",
       "    }\n",
       "</style>\n",
       "<table border=\"1\" class=\"dataframe\">\n",
       "  <thead>\n",
       "    <tr style=\"text-align: right;\">\n",
       "      <th></th>\n",
       "      <th>Coefficient</th>\n",
       "    </tr>\n",
       "  </thead>\n",
       "  <tbody>\n",
       "    <tr>\n",
       "      <th>Male</th>\n",
       "      <td>0.004901</td>\n",
       "    </tr>\n",
       "    <tr>\n",
       "      <th>RaceWhite</th>\n",
       "      <td>-0.492044</td>\n",
       "    </tr>\n",
       "    <tr>\n",
       "      <th>Age</th>\n",
       "      <td>0.006009</td>\n",
       "    </tr>\n",
       "    <tr>\n",
       "      <th>State</th>\n",
       "      <td>-0.434880</td>\n",
       "    </tr>\n",
       "    <tr>\n",
       "      <th>TimeServed</th>\n",
       "      <td>-0.117693</td>\n",
       "    </tr>\n",
       "    <tr>\n",
       "      <th>MaxSentence</th>\n",
       "      <td>-0.112816</td>\n",
       "    </tr>\n",
       "    <tr>\n",
       "      <th>MultipleOffenses</th>\n",
       "      <td>0.698962</td>\n",
       "    </tr>\n",
       "    <tr>\n",
       "      <th>Crime</th>\n",
       "      <td>0.000000</td>\n",
       "    </tr>\n",
       "  </tbody>\n",
       "</table>\n",
       "</div>"
      ],
      "text/plain": [
       "                  Coefficient\n",
       "Male                 0.004901\n",
       "RaceWhite           -0.492044\n",
       "Age                  0.006009\n",
       "State               -0.434880\n",
       "TimeServed          -0.117693\n",
       "MaxSentence         -0.112816\n",
       "MultipleOffenses     0.698962\n",
       "Crime                0.000000"
      ]
     },
     "execution_count": 163,
     "metadata": {},
     "output_type": "execute_result"
    }
   ],
   "source": [
    "#2.b.i)\n",
    "coefficients = pandas.DataFrame(model.coef_.T, X.columns, columns=['Coefficient'])\n",
    "print(f'Intercept: {model.intercept_}\\tR2: {model.score(X, data2.Violator)}')\n",
    "coefficients"
   ]
  },
  {
   "cell_type": "code",
   "execution_count": null,
   "metadata": {},
   "outputs": [],
   "source": [
    "#2.b.ii)\n",
    "MALE_WHITE_50_MARYLAND = "
   ]
  },
  {
   "cell_type": "code",
   "execution_count": 101,
   "metadata": {},
   "outputs": [
    {
     "data": {
      "text/plain": [
       "0.8817733990147784"
      ]
     },
     "execution_count": 101,
     "metadata": {},
     "output_type": "execute_result"
    }
   ],
   "source": [
    "#2.b.iii)\n",
    "model.score(X_test,y_test)"
   ]
  },
  {
   "cell_type": "code",
   "execution_count": null,
   "metadata": {},
   "outputs": [],
   "source": []
  }
 ],
 "metadata": {
  "kernelspec": {
   "display_name": "Python 3",
   "language": "python",
   "name": "python3"
  },
  "language_info": {
   "codemirror_mode": {
    "name": "ipython",
    "version": 3
   },
   "file_extension": ".py",
   "mimetype": "text/x-python",
   "name": "python",
   "nbconvert_exporter": "python",
   "pygments_lexer": "ipython3",
   "version": "3.8.3"
  }
 },
 "nbformat": 4,
 "nbformat_minor": 4
}
