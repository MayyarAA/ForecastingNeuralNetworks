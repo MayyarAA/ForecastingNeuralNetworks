{
  "nbformat": 4,
  "nbformat_minor": 0,
  "metadata": {
    "colab": {
      "name": "MSCI433A1.ipynb",
      "provenance": [],
      "collapsed_sections": [],
      "authorship_tag": "ABX9TyP1/JPbz59TRpUFzP0RGbkt",
      "include_colab_link": true
    },
    "kernelspec": {
      "name": "python3",
      "display_name": "Python 3"
    },
    "language_info": {
      "name": "python"
    }
  },
  "cells": [
    {
      "cell_type": "markdown",
      "metadata": {
        "id": "view-in-github",
        "colab_type": "text"
      },
      "source": [
        "<a href=\"https://colab.research.google.com/github/MayyarAA/ForecastingNeuralNetworks/blob/main/MSCI433A1.ipynb\" target=\"_parent\"><img src=\"https://colab.research.google.com/assets/colab-badge.svg\" alt=\"Open In Colab\"/></a>"
      ]
    },
    {
      "cell_type": "code",
      "execution_count": 2,
      "metadata": {
        "id": "icqHVeNGyuyf"
      },
      "outputs": [],
      "source": [
        "import numpy\n",
        "import scipy\n",
        "import pandas\n",
        "import matplotlib.pyplot as plt\n",
        "import sklearn    "
      ]
    },
    {
      "cell_type": "code",
      "source": [
        "from google.colab import drive\n",
        "drive.mount('/content/drive')     "
      ],
      "metadata": {
        "colab": {
          "base_uri": "https://localhost:8080/"
        },
        "id": "LNvf3phe1BKQ",
        "outputId": "4fb8bb44-a69a-416a-828e-b3ad635f5636"
      },
      "execution_count": 5,
      "outputs": [
        {
          "output_type": "stream",
          "name": "stdout",
          "text": [
            "Drive already mounted at /content/drive; to attempt to forcibly remount, call drive.mount(\"/content/drive\", force_remount=True).\n"
          ]
        }
      ]
    },
    {
      "cell_type": "code",
      "source": [
        "!ls \"/content/drive/My Drive/Colab Notebooks\""
      ],
      "metadata": {
        "colab": {
          "base_uri": "https://localhost:8080/"
        },
        "id": "_ZlSWtYv1vTl",
        "outputId": "111942da-40be-486a-ed41-5ce144596649"
      },
      "execution_count": 10,
      "outputs": [
        {
          "output_type": "stream",
          "name": "stdout",
          "text": [
            "MSCI433A1.ipynb  StateData.csv\n"
          ]
        }
      ]
    },
    {
      "cell_type": "code",
      "source": [
        "data1 = pandas.read_csv(\"/content/drive/My Drive/Colab Notebooks/StateData.csv\")\n",
        "data1.head()"
      ],
      "metadata": {
        "colab": {
          "base_uri": "https://localhost:8080/",
          "height": 206
        },
        "id": "SkO4olLp2DN5",
        "outputId": "9610fd9e-43af-421d-fed7-1cbaae7f4340"
      },
      "execution_count": 23,
      "outputs": [
        {
          "output_type": "execute_result",
          "data": {
            "text/html": [
              "\n",
              "  <div id=\"df-21631d49-98c4-4f6c-9199-64c0842c725f\">\n",
              "    <div class=\"colab-df-container\">\n",
              "      <div>\n",
              "<style scoped>\n",
              "    .dataframe tbody tr th:only-of-type {\n",
              "        vertical-align: middle;\n",
              "    }\n",
              "\n",
              "    .dataframe tbody tr th {\n",
              "        vertical-align: top;\n",
              "    }\n",
              "\n",
              "    .dataframe thead th {\n",
              "        text-align: right;\n",
              "    }\n",
              "</style>\n",
              "<table border=\"1\" class=\"dataframe\">\n",
              "  <thead>\n",
              "    <tr style=\"text-align: right;\">\n",
              "      <th></th>\n",
              "      <th>Population</th>\n",
              "      <th>Income</th>\n",
              "      <th>Illiteracy</th>\n",
              "      <th>LifeExp</th>\n",
              "      <th>Murder</th>\n",
              "      <th>HighSchoolGrad</th>\n",
              "      <th>Frost</th>\n",
              "      <th>Area</th>\n",
              "      <th>Longitude</th>\n",
              "      <th>Latitude</th>\n",
              "      <th>Region</th>\n",
              "    </tr>\n",
              "  </thead>\n",
              "  <tbody>\n",
              "    <tr>\n",
              "      <th>0</th>\n",
              "      <td>3615</td>\n",
              "      <td>3624</td>\n",
              "      <td>2.1</td>\n",
              "      <td>69.05</td>\n",
              "      <td>15.1</td>\n",
              "      <td>41.3</td>\n",
              "      <td>20</td>\n",
              "      <td>50708</td>\n",
              "      <td>-86.7509</td>\n",
              "      <td>32.5901</td>\n",
              "      <td>South</td>\n",
              "    </tr>\n",
              "    <tr>\n",
              "      <th>1</th>\n",
              "      <td>365</td>\n",
              "      <td>6315</td>\n",
              "      <td>1.5</td>\n",
              "      <td>69.31</td>\n",
              "      <td>11.3</td>\n",
              "      <td>66.7</td>\n",
              "      <td>152</td>\n",
              "      <td>566432</td>\n",
              "      <td>-127.2500</td>\n",
              "      <td>49.2500</td>\n",
              "      <td>West</td>\n",
              "    </tr>\n",
              "    <tr>\n",
              "      <th>2</th>\n",
              "      <td>2212</td>\n",
              "      <td>4530</td>\n",
              "      <td>1.8</td>\n",
              "      <td>70.55</td>\n",
              "      <td>7.8</td>\n",
              "      <td>58.1</td>\n",
              "      <td>15</td>\n",
              "      <td>113417</td>\n",
              "      <td>-111.6250</td>\n",
              "      <td>34.2192</td>\n",
              "      <td>West</td>\n",
              "    </tr>\n",
              "    <tr>\n",
              "      <th>3</th>\n",
              "      <td>2110</td>\n",
              "      <td>3378</td>\n",
              "      <td>1.9</td>\n",
              "      <td>70.66</td>\n",
              "      <td>10.1</td>\n",
              "      <td>39.9</td>\n",
              "      <td>65</td>\n",
              "      <td>51945</td>\n",
              "      <td>-92.2992</td>\n",
              "      <td>34.7336</td>\n",
              "      <td>South</td>\n",
              "    </tr>\n",
              "    <tr>\n",
              "      <th>4</th>\n",
              "      <td>21198</td>\n",
              "      <td>5114</td>\n",
              "      <td>1.1</td>\n",
              "      <td>71.71</td>\n",
              "      <td>10.3</td>\n",
              "      <td>62.6</td>\n",
              "      <td>20</td>\n",
              "      <td>156361</td>\n",
              "      <td>-119.7730</td>\n",
              "      <td>36.5341</td>\n",
              "      <td>West</td>\n",
              "    </tr>\n",
              "  </tbody>\n",
              "</table>\n",
              "</div>\n",
              "      <button class=\"colab-df-convert\" onclick=\"convertToInteractive('df-21631d49-98c4-4f6c-9199-64c0842c725f')\"\n",
              "              title=\"Convert this dataframe to an interactive table.\"\n",
              "              style=\"display:none;\">\n",
              "        \n",
              "  <svg xmlns=\"http://www.w3.org/2000/svg\" height=\"24px\"viewBox=\"0 0 24 24\"\n",
              "       width=\"24px\">\n",
              "    <path d=\"M0 0h24v24H0V0z\" fill=\"none\"/>\n",
              "    <path d=\"M18.56 5.44l.94 2.06.94-2.06 2.06-.94-2.06-.94-.94-2.06-.94 2.06-2.06.94zm-11 1L8.5 8.5l.94-2.06 2.06-.94-2.06-.94L8.5 2.5l-.94 2.06-2.06.94zm10 10l.94 2.06.94-2.06 2.06-.94-2.06-.94-.94-2.06-.94 2.06-2.06.94z\"/><path d=\"M17.41 7.96l-1.37-1.37c-.4-.4-.92-.59-1.43-.59-.52 0-1.04.2-1.43.59L10.3 9.45l-7.72 7.72c-.78.78-.78 2.05 0 2.83L4 21.41c.39.39.9.59 1.41.59.51 0 1.02-.2 1.41-.59l7.78-7.78 2.81-2.81c.8-.78.8-2.07 0-2.86zM5.41 20L4 18.59l7.72-7.72 1.47 1.35L5.41 20z\"/>\n",
              "  </svg>\n",
              "      </button>\n",
              "      \n",
              "  <style>\n",
              "    .colab-df-container {\n",
              "      display:flex;\n",
              "      flex-wrap:wrap;\n",
              "      gap: 12px;\n",
              "    }\n",
              "\n",
              "    .colab-df-convert {\n",
              "      background-color: #E8F0FE;\n",
              "      border: none;\n",
              "      border-radius: 50%;\n",
              "      cursor: pointer;\n",
              "      display: none;\n",
              "      fill: #1967D2;\n",
              "      height: 32px;\n",
              "      padding: 0 0 0 0;\n",
              "      width: 32px;\n",
              "    }\n",
              "\n",
              "    .colab-df-convert:hover {\n",
              "      background-color: #E2EBFA;\n",
              "      box-shadow: 0px 1px 2px rgba(60, 64, 67, 0.3), 0px 1px 3px 1px rgba(60, 64, 67, 0.15);\n",
              "      fill: #174EA6;\n",
              "    }\n",
              "\n",
              "    [theme=dark] .colab-df-convert {\n",
              "      background-color: #3B4455;\n",
              "      fill: #D2E3FC;\n",
              "    }\n",
              "\n",
              "    [theme=dark] .colab-df-convert:hover {\n",
              "      background-color: #434B5C;\n",
              "      box-shadow: 0px 1px 3px 1px rgba(0, 0, 0, 0.15);\n",
              "      filter: drop-shadow(0px 1px 2px rgba(0, 0, 0, 0.3));\n",
              "      fill: #FFFFFF;\n",
              "    }\n",
              "  </style>\n",
              "\n",
              "      <script>\n",
              "        const buttonEl =\n",
              "          document.querySelector('#df-21631d49-98c4-4f6c-9199-64c0842c725f button.colab-df-convert');\n",
              "        buttonEl.style.display =\n",
              "          google.colab.kernel.accessAllowed ? 'block' : 'none';\n",
              "\n",
              "        async function convertToInteractive(key) {\n",
              "          const element = document.querySelector('#df-21631d49-98c4-4f6c-9199-64c0842c725f');\n",
              "          const dataTable =\n",
              "            await google.colab.kernel.invokeFunction('convertToInteractive',\n",
              "                                                     [key], {});\n",
              "          if (!dataTable) return;\n",
              "\n",
              "          const docLinkHtml = 'Like what you see? Visit the ' +\n",
              "            '<a target=\"_blank\" href=https://colab.research.google.com/notebooks/data_table.ipynb>data table notebook</a>'\n",
              "            + ' to learn more about interactive tables.';\n",
              "          element.innerHTML = '';\n",
              "          dataTable['output_type'] = 'display_data';\n",
              "          await google.colab.output.renderOutput(dataTable, element);\n",
              "          const docLink = document.createElement('div');\n",
              "          docLink.innerHTML = docLinkHtml;\n",
              "          element.appendChild(docLink);\n",
              "        }\n",
              "      </script>\n",
              "    </div>\n",
              "  </div>\n",
              "  "
            ],
            "text/plain": [
              "   Population  Income  Illiteracy  LifeExp  ...    Area  Longitude  Latitude  Region\n",
              "0        3615    3624         2.1    69.05  ...   50708   -86.7509   32.5901   South\n",
              "1         365    6315         1.5    69.31  ...  566432  -127.2500   49.2500    West\n",
              "2        2212    4530         1.8    70.55  ...  113417  -111.6250   34.2192    West\n",
              "3        2110    3378         1.9    70.66  ...   51945   -92.2992   34.7336   South\n",
              "4       21198    5114         1.1    71.71  ...  156361  -119.7730   36.5341    West\n",
              "\n",
              "[5 rows x 11 columns]"
            ]
          },
          "metadata": {},
          "execution_count": 23
        }
      ]
    },
    {
      "cell_type": "code",
      "source": [
        "data1.info()"
      ],
      "metadata": {
        "colab": {
          "base_uri": "https://localhost:8080/"
        },
        "id": "HYelD09N2Uqn",
        "outputId": "8b0caa64-e060-4bd2-baa2-cbac0d3fd9d8"
      },
      "execution_count": 15,
      "outputs": [
        {
          "output_type": "stream",
          "name": "stdout",
          "text": [
            "<class 'pandas.core.frame.DataFrame'>\n",
            "RangeIndex: 50 entries, 0 to 49\n",
            "Data columns (total 11 columns):\n",
            " #   Column          Non-Null Count  Dtype  \n",
            "---  ------          --------------  -----  \n",
            " 0   Population      50 non-null     int64  \n",
            " 1   Income          50 non-null     int64  \n",
            " 2   Illiteracy      50 non-null     float64\n",
            " 3   LifeExp         50 non-null     float64\n",
            " 4   Murder          50 non-null     float64\n",
            " 5   HighSchoolGrad  50 non-null     float64\n",
            " 6   Frost           50 non-null     int64  \n",
            " 7   Area            50 non-null     int64  \n",
            " 8   Longitude       50 non-null     float64\n",
            " 9   Latitude        50 non-null     float64\n",
            " 10  Region          50 non-null     object \n",
            "dtypes: float64(6), int64(4), object(1)\n",
            "memory usage: 4.4+ KB\n"
          ]
        }
      ]
    },
    {
      "cell_type": "code",
      "source": [
        "statedata = data1\n",
        "#statedata['Region'] = pandas.to_pickle (statedata['Region'],errors='coerce')\n",
        "#statedata.head()\n",
        "plt.scatter(x=statedata[\"Longitude\"],y=statedata[\"Latitude\"])"
      ],
      "metadata": {
        "colab": {
          "base_uri": "https://localhost:8080/",
          "height": 283
        },
        "id": "nLvqjgt75sox",
        "outputId": "5880c71b-c40c-46f8-a3a3-64764efc13a4"
      },
      "execution_count": 25,
      "outputs": [
        {
          "output_type": "execute_result",
          "data": {
            "text/plain": [
              "<matplotlib.collections.PathCollection at 0x7f555cb14110>"
            ]
          },
          "metadata": {},
          "execution_count": 25
        },
        {
          "output_type": "display_data",
          "data": {
            "image/png": "[encoded data removed]",
            "text/plain": [
              "<Figure size 432x288 with 1 Axes>"
            ]
          },
          "metadata": {
            "needs_background": "light"
          }
        }
      ]
    },
    {
      "cell_type": "code",
      "source": [
        "regions_highschoolgradmean = statedata.groupby(by=\"Region\").mean()\n",
        "regions_highschoolgradmean"
      ],
      "metadata": {
        "colab": {
          "base_uri": "https://localhost:8080/",
          "height": 206
        },
        "id": "EKUBE2DQagOa",
        "outputId": "b57735cc-6f0d-40a6-95c1-fbd4e041e34b"
      },
      "execution_count": 47,
      "outputs": [
        {
          "output_type": "execute_result",
          "data": {
            "text/html": [
              "\n",
              "  <div id=\"df-c181cf12-456d-4d8a-b3dd-caf207fec5a7\">\n",
              "    <div class=\"colab-df-container\">\n",
              "      <div>\n",
              "<style scoped>\n",
              "    .dataframe tbody tr th:only-of-type {\n",
              "        vertical-align: middle;\n",
              "    }\n",
              "\n",
              "    .dataframe tbody tr th {\n",
              "        vertical-align: top;\n",
              "    }\n",
              "\n",
              "    .dataframe thead th {\n",
              "        text-align: right;\n",
              "    }\n",
              "</style>\n",
              "<table border=\"1\" class=\"dataframe\">\n",
              "  <thead>\n",
              "    <tr style=\"text-align: right;\">\n",
              "      <th></th>\n",
              "      <th>Population</th>\n",
              "      <th>Income</th>\n",
              "      <th>Illiteracy</th>\n",
              "      <th>LifeExp</th>\n",
              "      <th>Murder</th>\n",
              "      <th>HighSchoolGrad</th>\n",
              "      <th>Frost</th>\n",
              "      <th>Area</th>\n",
              "      <th>Longitude</th>\n",
              "      <th>Latitude</th>\n",
              "    </tr>\n",
              "    <tr>\n",
              "      <th>Region</th>\n",
              "      <th></th>\n",
              "      <th></th>\n",
              "      <th></th>\n",
              "      <th></th>\n",
              "      <th></th>\n",
              "      <th></th>\n",
              "      <th></th>\n",
              "      <th></th>\n",
              "      <th></th>\n",
              "      <th></th>\n",
              "    </tr>\n",
              "  </thead>\n",
              "  <tbody>\n",
              "    <tr>\n",
              "      <th>North Central</th>\n",
              "      <td>4803.000000</td>\n",
              "      <td>4611.083333</td>\n",
              "      <td>0.700000</td>\n",
              "      <td>71.766667</td>\n",
              "      <td>5.275000</td>\n",
              "      <td>54.516667</td>\n",
              "      <td>138.833333</td>\n",
              "      <td>62652.000</td>\n",
              "      <td>-92.562783</td>\n",
              "      <td>42.171567</td>\n",
              "    </tr>\n",
              "    <tr>\n",
              "      <th>Northeast</th>\n",
              "      <td>5495.111111</td>\n",
              "      <td>4570.222222</td>\n",
              "      <td>1.000000</td>\n",
              "      <td>71.264444</td>\n",
              "      <td>4.722222</td>\n",
              "      <td>53.966667</td>\n",
              "      <td>132.777778</td>\n",
              "      <td>18141.000</td>\n",
              "      <td>-72.756411</td>\n",
              "      <td>42.535956</td>\n",
              "    </tr>\n",
              "    <tr>\n",
              "      <th>South</th>\n",
              "      <td>4208.125000</td>\n",
              "      <td>4011.937500</td>\n",
              "      <td>1.737500</td>\n",
              "      <td>69.706250</td>\n",
              "      <td>10.581250</td>\n",
              "      <td>44.343750</td>\n",
              "      <td>64.625000</td>\n",
              "      <td>54605.125</td>\n",
              "      <td>-85.174487</td>\n",
              "      <td>34.610344</td>\n",
              "    </tr>\n",
              "    <tr>\n",
              "      <th>West</th>\n",
              "      <td>2915.307692</td>\n",
              "      <td>4702.615385</td>\n",
              "      <td>1.023077</td>\n",
              "      <td>71.234615</td>\n",
              "      <td>7.215385</td>\n",
              "      <td>62.000000</td>\n",
              "      <td>102.153846</td>\n",
              "      <td>134463.000</td>\n",
              "      <td>-114.988769</td>\n",
              "      <td>40.606854</td>\n",
              "    </tr>\n",
              "  </tbody>\n",
              "</table>\n",
              "</div>\n",
              "      <button class=\"colab-df-convert\" onclick=\"convertToInteractive('df-c181cf12-456d-4d8a-b3dd-caf207fec5a7')\"\n",
              "              title=\"Convert this dataframe to an interactive table.\"\n",
              "              style=\"display:none;\">\n",
              "        \n",
              "  <svg xmlns=\"http://www.w3.org/2000/svg\" height=\"24px\"viewBox=\"0 0 24 24\"\n",
              "       width=\"24px\">\n",
              "    <path d=\"M0 0h24v24H0V0z\" fill=\"none\"/>\n",
              "    <path d=\"M18.56 5.44l.94 2.06.94-2.06 2.06-.94-2.06-.94-.94-2.06-.94 2.06-2.06.94zm-11 1L8.5 8.5l.94-2.06 2.06-.94-2.06-.94L8.5 2.5l-.94 2.06-2.06.94zm10 10l.94 2.06.94-2.06 2.06-.94-2.06-.94-.94-2.06-.94 2.06-2.06.94z\"/><path d=\"M17.41 7.96l-1.37-1.37c-.4-.4-.92-.59-1.43-.59-.52 0-1.04.2-1.43.59L10.3 9.45l-7.72 7.72c-.78.78-.78 2.05 0 2.83L4 21.41c.39.39.9.59 1.41.59.51 0 1.02-.2 1.41-.59l7.78-7.78 2.81-2.81c.8-.78.8-2.07 0-2.86zM5.41 20L4 18.59l7.72-7.72 1.47 1.35L5.41 20z\"/>\n",
              "  </svg>\n",
              "      </button>\n",
              "      \n",
              "  <style>\n",
              "    .colab-df-container {\n",
              "      display:flex;\n",
              "      flex-wrap:wrap;\n",
              "      gap: 12px;\n",
              "    }\n",
              "\n",
              "    .colab-df-convert {\n",
              "      background-color: #E8F0FE;\n",
              "      border: none;\n",
              "      border-radius: 50%;\n",
              "      cursor: pointer;\n",
              "      display: none;\n",
              "      fill: #1967D2;\n",
              "      height: 32px;\n",
              "      padding: 0 0 0 0;\n",
              "      width: 32px;\n",
              "    }\n",
              "\n",
              "    .colab-df-convert:hover {\n",
              "      background-color: #E2EBFA;\n",
              "      box-shadow: 0px 1px 2px rgba(60, 64, 67, 0.3), 0px 1px 3px 1px rgba(60, 64, 67, 0.15);\n",
              "      fill: #174EA6;\n",
              "    }\n",
              "\n",
              "    [theme=dark] .colab-df-convert {\n",
              "      background-color: #3B4455;\n",
              "      fill: #D2E3FC;\n",
              "    }\n",
              "\n",
              "    [theme=dark] .colab-df-convert:hover {\n",
              "      background-color: #434B5C;\n",
              "      box-shadow: 0px 1px 3px 1px rgba(0, 0, 0, 0.15);\n",
              "      filter: drop-shadow(0px 1px 2px rgba(0, 0, 0, 0.3));\n",
              "      fill: #FFFFFF;\n",
              "    }\n",
              "  </style>\n",
              "\n",
              "      <script>\n",
              "        const buttonEl =\n",
              "          document.querySelector('#df-c181cf12-456d-4d8a-b3dd-caf207fec5a7 button.colab-df-convert');\n",
              "        buttonEl.style.display =\n",
              "          google.colab.kernel.accessAllowed ? 'block' : 'none';\n",
              "\n",
              "        async function convertToInteractive(key) {\n",
              "          const element = document.querySelector('#df-c181cf12-456d-4d8a-b3dd-caf207fec5a7');\n",
              "          const dataTable =\n",
              "            await google.colab.kernel.invokeFunction('convertToInteractive',\n",
              "                                                     [key], {});\n",
              "          if (!dataTable) return;\n",
              "\n",
              "          const docLinkHtml = 'Like what you see? Visit the ' +\n",
              "            '<a target=\"_blank\" href=https://colab.research.google.com/notebooks/data_table.ipynb>data table notebook</a>'\n",
              "            + ' to learn more about interactive tables.';\n",
              "          element.innerHTML = '';\n",
              "          dataTable['output_type'] = 'display_data';\n",
              "          await google.colab.output.renderOutput(dataTable, element);\n",
              "          const docLink = document.createElement('div');\n",
              "          docLink.innerHTML = docLinkHtml;\n",
              "          element.appendChild(docLink);\n",
              "        }\n",
              "      </script>\n",
              "    </div>\n",
              "  </div>\n",
              "  "
            ],
            "text/plain": [
              "                Population       Income  ...   Longitude   Latitude\n",
              "Region                                   ...                       \n",
              "North Central  4803.000000  4611.083333  ...  -92.562783  42.171567\n",
              "Northeast      5495.111111  4570.222222  ...  -72.756411  42.535956\n",
              "South          4208.125000  4011.937500  ...  -85.174487  34.610344\n",
              "West           2915.307692  4702.615385  ... -114.988769  40.606854\n",
              "\n",
              "[4 rows x 10 columns]"
            ]
          },
          "metadata": {},
          "execution_count": 47
        }
      ]
    },
    {
      "cell_type": "code",
      "source": [
        ""
      ],
      "metadata": {
        "id": "-O8diLumfdzX"
      },
      "execution_count": null,
      "outputs": []
    }
  ]
}