{
 "cells": [
  {
   "cell_type": "code",
   "execution_count": 1,
   "id": "56c3fc4e",
   "metadata": {},
   "outputs": [],
   "source": [
    "import pandas as pd\n",
    "import numpy as np"
   ]
  },
  {
   "cell_type": "code",
   "execution_count": 39,
   "id": "974783cf",
   "metadata": {},
   "outputs": [],
   "source": [
    "daily_students = pd.read_excel(open('Downloads/Case 2 dataset (DailySales).xlsx','rb'), sheet_name='student daily')\n",
    "daily_staff = pd.read_excel(open('Downloads/Case 2 dataset (DailySales).xlsx','rb'), sheet_name='staff daily')\n",
    "daily_tourism = pd.read_excel(open('Downloads/Case 2 dataset (DailySales).xlsx','rb'), sheet_name='tourism daily')\n"
   ]
  },
  {
   "cell_type": "code",
   "execution_count": 25,
   "id": "ae51f9e9",
   "metadata": {},
   "outputs": [],
   "source": [
    "hourly= pd.read_excel(open('Downloads/Case 2 dataset (HourlySales).xlsx','rb'), sheet_name='Raw data')\n"
   ]
  },
  {
   "cell_type": "code",
   "execution_count": 26,
   "id": "7e16accf",
   "metadata": {},
   "outputs": [],
   "source": [
    "#removing totals\n",
    "hourly_ts = hourly.iloc[:5136]"
   ]
  },
  {
   "cell_type": "markdown",
   "id": "b5190e6d",
   "metadata": {},
   "source": [
    "# 1) Preparing hourly dataset to daily time series"
   ]
  },
  {
   "cell_type": "code",
   "execution_count": 27,
   "id": "6a8829ba",
   "metadata": {},
   "outputs": [
    {
     "data": {
      "text/html": [
       "<div>\n",
       "<style scoped>\n",
       "    .dataframe tbody tr th:only-of-type {\n",
       "        vertical-align: middle;\n",
       "    }\n",
       "\n",
       "    .dataframe tbody tr th {\n",
       "        vertical-align: top;\n",
       "    }\n",
       "\n",
       "    .dataframe thead th {\n",
       "        text-align: right;\n",
       "    }\n",
       "</style>\n",
       "<table border=\"1\" class=\"dataframe\">\n",
       "  <thead>\n",
       "    <tr style=\"text-align: right;\">\n",
       "      <th></th>\n",
       "      <th>Time</th>\n",
       "      <th>Sales</th>\n",
       "    </tr>\n",
       "  </thead>\n",
       "  <tbody>\n",
       "    <tr>\n",
       "      <th>0</th>\n",
       "      <td>12am Sat 1st Apr 2017</td>\n",
       "      <td>0.0</td>\n",
       "    </tr>\n",
       "    <tr>\n",
       "      <th>1</th>\n",
       "      <td>1am Sat 1st Apr 2017</td>\n",
       "      <td>0.0</td>\n",
       "    </tr>\n",
       "    <tr>\n",
       "      <th>2</th>\n",
       "      <td>2am Sat 1st Apr 2017</td>\n",
       "      <td>0.0</td>\n",
       "    </tr>\n",
       "    <tr>\n",
       "      <th>3</th>\n",
       "      <td>3am Sat 1st Apr 2017</td>\n",
       "      <td>0.0</td>\n",
       "    </tr>\n",
       "    <tr>\n",
       "      <th>4</th>\n",
       "      <td>4am Sat 1st Apr 2017</td>\n",
       "      <td>0.0</td>\n",
       "    </tr>\n",
       "    <tr>\n",
       "      <th>...</th>\n",
       "      <td>...</td>\n",
       "      <td>...</td>\n",
       "    </tr>\n",
       "    <tr>\n",
       "      <th>5131</th>\n",
       "      <td>7pm Tue 31st Oct 2017</td>\n",
       "      <td>58.5</td>\n",
       "    </tr>\n",
       "    <tr>\n",
       "      <th>5132</th>\n",
       "      <td>8pm Tue 31st Oct 2017</td>\n",
       "      <td>0.0</td>\n",
       "    </tr>\n",
       "    <tr>\n",
       "      <th>5133</th>\n",
       "      <td>9pm Tue 31st Oct 2017</td>\n",
       "      <td>0.0</td>\n",
       "    </tr>\n",
       "    <tr>\n",
       "      <th>5134</th>\n",
       "      <td>10pm Tue 31st Oct 2017</td>\n",
       "      <td>0.0</td>\n",
       "    </tr>\n",
       "    <tr>\n",
       "      <th>5135</th>\n",
       "      <td>11pm Tue 31st Oct 2017</td>\n",
       "      <td>0.0</td>\n",
       "    </tr>\n",
       "  </tbody>\n",
       "</table>\n",
       "<p>5136 rows × 2 columns</p>\n",
       "</div>"
      ],
      "text/plain": [
       "                        Time  Sales\n",
       "0      12am Sat 1st Apr 2017    0.0\n",
       "1       1am Sat 1st Apr 2017    0.0\n",
       "2       2am Sat 1st Apr 2017    0.0\n",
       "3       3am Sat 1st Apr 2017    0.0\n",
       "4       4am Sat 1st Apr 2017    0.0\n",
       "...                      ...    ...\n",
       "5131   7pm Tue 31st Oct 2017   58.5\n",
       "5132   8pm Tue 31st Oct 2017    0.0\n",
       "5133   9pm Tue 31st Oct 2017    0.0\n",
       "5134  10pm Tue 31st Oct 2017    0.0\n",
       "5135  11pm Tue 31st Oct 2017    0.0\n",
       "\n",
       "[5136 rows x 2 columns]"
      ]
     },
     "execution_count": 27,
     "metadata": {},
     "output_type": "execute_result"
    }
   ],
   "source": [
    "hourly_ts"
   ]
  },
  {
   "cell_type": "code",
   "execution_count": 28,
   "id": "78bfc013",
   "metadata": {},
   "outputs": [
    {
     "name": "stderr",
     "output_type": "stream",
     "text": [
      "<ipython-input-28-e0067f9b02d0>:1: SettingWithCopyWarning: \n",
      "A value is trying to be set on a copy of a slice from a DataFrame.\n",
      "Try using .loc[row_indexer,col_indexer] = value instead\n",
      "\n",
      "See the caveats in the documentation: https://pandas.pydata.org/pandas-docs/stable/user_guide/indexing.html#returning-a-view-versus-a-copy\n",
      "  hourly_ts['Time'] =  pd.to_datetime(hourly_ts['Time'])\n"
     ]
    }
   ],
   "source": [
    "hourly_ts['Time'] =  pd.to_datetime(hourly_ts['Time'])"
   ]
  },
  {
   "cell_type": "code",
   "execution_count": 29,
   "id": "5cdeeb61",
   "metadata": {},
   "outputs": [
    {
     "data": {
      "text/html": [
       "<div>\n",
       "<style scoped>\n",
       "    .dataframe tbody tr th:only-of-type {\n",
       "        vertical-align: middle;\n",
       "    }\n",
       "\n",
       "    .dataframe tbody tr th {\n",
       "        vertical-align: top;\n",
       "    }\n",
       "\n",
       "    .dataframe thead th {\n",
       "        text-align: right;\n",
       "    }\n",
       "</style>\n",
       "<table border=\"1\" class=\"dataframe\">\n",
       "  <thead>\n",
       "    <tr style=\"text-align: right;\">\n",
       "      <th></th>\n",
       "      <th>Time</th>\n",
       "      <th>Sales</th>\n",
       "    </tr>\n",
       "  </thead>\n",
       "  <tbody>\n",
       "    <tr>\n",
       "      <th>0</th>\n",
       "      <td>2017-04-01 00:00:00</td>\n",
       "      <td>0.0</td>\n",
       "    </tr>\n",
       "    <tr>\n",
       "      <th>1</th>\n",
       "      <td>2017-04-01 01:00:00</td>\n",
       "      <td>0.0</td>\n",
       "    </tr>\n",
       "    <tr>\n",
       "      <th>2</th>\n",
       "      <td>2017-04-01 02:00:00</td>\n",
       "      <td>0.0</td>\n",
       "    </tr>\n",
       "    <tr>\n",
       "      <th>3</th>\n",
       "      <td>2017-04-01 03:00:00</td>\n",
       "      <td>0.0</td>\n",
       "    </tr>\n",
       "    <tr>\n",
       "      <th>4</th>\n",
       "      <td>2017-04-01 04:00:00</td>\n",
       "      <td>0.0</td>\n",
       "    </tr>\n",
       "    <tr>\n",
       "      <th>...</th>\n",
       "      <td>...</td>\n",
       "      <td>...</td>\n",
       "    </tr>\n",
       "    <tr>\n",
       "      <th>5131</th>\n",
       "      <td>2017-10-31 19:00:00</td>\n",
       "      <td>58.5</td>\n",
       "    </tr>\n",
       "    <tr>\n",
       "      <th>5132</th>\n",
       "      <td>2017-10-31 20:00:00</td>\n",
       "      <td>0.0</td>\n",
       "    </tr>\n",
       "    <tr>\n",
       "      <th>5133</th>\n",
       "      <td>2017-10-31 21:00:00</td>\n",
       "      <td>0.0</td>\n",
       "    </tr>\n",
       "    <tr>\n",
       "      <th>5134</th>\n",
       "      <td>2017-10-31 22:00:00</td>\n",
       "      <td>0.0</td>\n",
       "    </tr>\n",
       "    <tr>\n",
       "      <th>5135</th>\n",
       "      <td>2017-10-31 23:00:00</td>\n",
       "      <td>0.0</td>\n",
       "    </tr>\n",
       "  </tbody>\n",
       "</table>\n",
       "<p>5136 rows × 2 columns</p>\n",
       "</div>"
      ],
      "text/plain": [
       "                    Time  Sales\n",
       "0    2017-04-01 00:00:00    0.0\n",
       "1    2017-04-01 01:00:00    0.0\n",
       "2    2017-04-01 02:00:00    0.0\n",
       "3    2017-04-01 03:00:00    0.0\n",
       "4    2017-04-01 04:00:00    0.0\n",
       "...                  ...    ...\n",
       "5131 2017-10-31 19:00:00   58.5\n",
       "5132 2017-10-31 20:00:00    0.0\n",
       "5133 2017-10-31 21:00:00    0.0\n",
       "5134 2017-10-31 22:00:00    0.0\n",
       "5135 2017-10-31 23:00:00    0.0\n",
       "\n",
       "[5136 rows x 2 columns]"
      ]
     },
     "execution_count": 29,
     "metadata": {},
     "output_type": "execute_result"
    }
   ],
   "source": [
    "hourly_ts"
   ]
  },
  {
   "cell_type": "code",
   "execution_count": null,
   "id": "7809b4c5",
   "metadata": {},
   "outputs": [],
   "source": [
    "daily = hourly_ts.groupby(pd.Grouper(freq='D', key='Time')).sum()\n",
    "\n"
   ]
  },
  {
   "cell_type": "markdown",
   "id": "ab5da748",
   "metadata": {},
   "source": [
    "We have time series format with date as index and total sales for each date"
   ]
  },
  {
   "cell_type": "code",
   "execution_count": 31,
   "id": "d6a2c5cf",
   "metadata": {},
   "outputs": [
    {
     "data": {
      "text/html": [
       "<div>\n",
       "<style scoped>\n",
       "    .dataframe tbody tr th:only-of-type {\n",
       "        vertical-align: middle;\n",
       "    }\n",
       "\n",
       "    .dataframe tbody tr th {\n",
       "        vertical-align: top;\n",
       "    }\n",
       "\n",
       "    .dataframe thead th {\n",
       "        text-align: right;\n",
       "    }\n",
       "</style>\n",
       "<table border=\"1\" class=\"dataframe\">\n",
       "  <thead>\n",
       "    <tr style=\"text-align: right;\">\n",
       "      <th></th>\n",
       "      <th>Sales</th>\n",
       "    </tr>\n",
       "    <tr>\n",
       "      <th>Time</th>\n",
       "      <th></th>\n",
       "    </tr>\n",
       "  </thead>\n",
       "  <tbody>\n",
       "    <tr>\n",
       "      <th>2017-04-01</th>\n",
       "      <td>2348.00000</td>\n",
       "    </tr>\n",
       "    <tr>\n",
       "      <th>2017-04-02</th>\n",
       "      <td>0.00000</td>\n",
       "    </tr>\n",
       "    <tr>\n",
       "      <th>2017-04-03</th>\n",
       "      <td>3090.00000</td>\n",
       "    </tr>\n",
       "    <tr>\n",
       "      <th>2017-04-04</th>\n",
       "      <td>0.00000</td>\n",
       "    </tr>\n",
       "    <tr>\n",
       "      <th>2017-04-05</th>\n",
       "      <td>3840.00000</td>\n",
       "    </tr>\n",
       "    <tr>\n",
       "      <th>...</th>\n",
       "      <td>...</td>\n",
       "    </tr>\n",
       "    <tr>\n",
       "      <th>2017-10-27</th>\n",
       "      <td>761.00002</td>\n",
       "    </tr>\n",
       "    <tr>\n",
       "      <th>2017-10-28</th>\n",
       "      <td>1611.00000</td>\n",
       "    </tr>\n",
       "    <tr>\n",
       "      <th>2017-10-29</th>\n",
       "      <td>732.00000</td>\n",
       "    </tr>\n",
       "    <tr>\n",
       "      <th>2017-10-30</th>\n",
       "      <td>869.00000</td>\n",
       "    </tr>\n",
       "    <tr>\n",
       "      <th>2017-10-31</th>\n",
       "      <td>1338.50000</td>\n",
       "    </tr>\n",
       "  </tbody>\n",
       "</table>\n",
       "<p>214 rows × 1 columns</p>\n",
       "</div>"
      ],
      "text/plain": [
       "                 Sales\n",
       "Time                  \n",
       "2017-04-01  2348.00000\n",
       "2017-04-02     0.00000\n",
       "2017-04-03  3090.00000\n",
       "2017-04-04     0.00000\n",
       "2017-04-05  3840.00000\n",
       "...                ...\n",
       "2017-10-27   761.00002\n",
       "2017-10-28  1611.00000\n",
       "2017-10-29   732.00000\n",
       "2017-10-30   869.00000\n",
       "2017-10-31  1338.50000\n",
       "\n",
       "[214 rows x 1 columns]"
      ]
     },
     "execution_count": 31,
     "metadata": {},
     "output_type": "execute_result"
    }
   ],
   "source": [
    "daily"
   ]
  },
  {
   "cell_type": "code",
   "execution_count": 165,
   "id": "7ac063df",
   "metadata": {},
   "outputs": [],
   "source": [
    "import numpy as np\n",
    "\n",
    "#Got this method from https://analyticsindiamag.com/tutorial-on-univariate-single-step-style-lstm-in-time-series-forecasting/\n",
    "def sampling(sequence, n_steps):\n",
    "\n",
    "    X, Y = list(), list()\n",
    "\n",
    "    for i in range(len(sequence)):\n",
    "\n",
    "        sam = i + n_steps\n",
    "        if sam > len(sequence)-1:\n",
    "            break\n",
    "\n",
    "        x, y = sequence[i:sam], sequence[sam]\n",
    "\n",
    "        X.append(x)\n",
    "\n",
    "        Y.append(y)\n",
    "\n",
    "    return np.array(X), np.array(Y)"
   ]
  },
  {
   "cell_type": "code",
   "execution_count": 194,
   "id": "2e45de95",
   "metadata": {},
   "outputs": [],
   "source": [
    "n_steps = 4\n",
    "\n",
    "X, Y = sampling(daily['Sales'].tolist(), n_steps)"
   ]
  },
  {
   "cell_type": "code",
   "execution_count": 170,
   "id": "2f8bdb93",
   "metadata": {},
   "outputs": [
    {
     "name": "stdout",
     "output_type": "stream",
     "text": [
      "[2348.    0. 3090.    0.] 3840.0\n",
      "[   0. 3090.    0. 3840.] 3006.0\n",
      "[3090.    0. 3840. 3006.] 3046.0\n",
      "[   0. 3840. 3006. 3046.] 2143.0\n",
      "[3840. 3006. 3046. 2143.] 0.0\n",
      "[3006. 3046. 2143.    0.] 2497.0\n",
      "[3046. 2143.    0. 2497.] 2440.0\n",
      "[2143.    0. 2497. 2440.] 2310.0\n",
      "[   0. 2497. 2440. 2310.] 3027.0\n",
      "[2497. 2440. 2310. 3027.] 0.0\n",
      "[2440. 2310. 3027.    0.] 1266.0\n",
      "[2310. 3027.    0. 1266.] 0.0\n",
      "[3027.    0. 1266.    0.] 1290.0\n",
      "[   0. 1266.    0. 1290.] 2433.0\n",
      "[1266.    0. 1290. 2433.] 3127.0\n",
      "[   0. 1290. 2433. 3127.] 2836.0\n",
      "[1290. 2433. 3127. 2836.] 2853.0\n",
      "[2433. 3127. 2836. 2853.] 1477.99999\n",
      "[3127.      2836.      2853.      1477.99999] 0.0\n",
      "[2836.      2853.      1477.99999    0.     ] 1707.0\n",
      "[2853.      1477.99999    0.      1707.     ] 1121.0\n",
      "[1477.99999    0.      1707.      1121.     ] 2202.0\n",
      "[   0. 1707. 1121. 2202.] 2334.99998\n",
      "[1707.      1121.      2202.      2334.99998] 1810.0\n",
      "[1121.      2202.      2334.99998 1810.     ] 1998.0\n",
      "[2202.      2334.99998 1810.      1998.     ] 0.0\n",
      "[2334.99998 1810.      1998.         0.     ] 1885.0\n",
      "[1810. 1998.    0. 1885.] 1724.0\n",
      "[1998.    0. 1885. 1724.] 1749.0\n",
      "[   0. 1885. 1724. 1749.] 1373.0\n",
      "[1885. 1724. 1749. 1373.] 1601.0\n",
      "[1724. 1749. 1373. 1601.] 1831.0\n",
      "[1749. 1373. 1601. 1831.] 0.0\n",
      "[1373. 1601. 1831.    0.] 1531.0\n",
      "[1601. 1831.    0. 1531.] 1247.0\n",
      "[1831.    0. 1531. 1247.] 2147.0\n",
      "[   0. 1531. 1247. 2147.] 2194.0\n",
      "[1531. 1247. 2147. 2194.] 2308.0\n",
      "[1247. 2147. 2194. 2308.] 1860.0\n",
      "[2147. 2194. 2308. 1860.] 0.0\n",
      "[2194. 2308. 1860.    0.] 1234.0\n",
      "[2308. 1860.    0. 1234.] 1217.99998\n",
      "[1860.         0.      1234.      1217.99998] 1317.0\n",
      "[   0.      1234.      1217.99998 1317.     ] 1539.0\n",
      "[1234.      1217.99998 1317.      1539.     ] 1491.0\n",
      "[1217.99998 1317.      1539.      1491.     ] 1393.0\n",
      "[1317. 1539. 1491. 1393.] 0.0\n",
      "[1539. 1491. 1393.    0.] 984.0\n",
      "[1491. 1393.    0.  984.] 1217.0\n",
      "[1393.    0.  984. 1217.] 1292.0\n",
      "[   0.  984. 1217. 1292.] 1408.99998\n",
      "[ 984.      1217.      1292.      1408.99998] 1047.0\n",
      "[1217.      1292.      1408.99998 1047.     ] 1242.0\n",
      "[1292.      1408.99998 1047.      1242.     ] 0.0\n",
      "[1408.99998 1047.      1242.         0.     ] 1242.99998\n",
      "[1047.      1242.         0.      1242.99998] 1145.0\n",
      "[1242.         0.      1242.99998 1145.     ] 930.0\n",
      "[   0.      1242.99998 1145.       930.     ] 1608.99998\n",
      "[1242.99998 1145.       930.      1608.99998] 1274.0\n",
      "[1145.       930.      1608.99998 1274.     ] 1177.0\n",
      "[ 930.      1608.99998 1274.      1177.     ] 0.0\n",
      "[1608.99998 1274.      1177.         0.     ] 1256.99998\n",
      "[1274.      1177.         0.      1256.99998] 1783.0\n",
      "[1177.         0.      1256.99998 1783.     ] 1822.0\n",
      "[   0.      1256.99998 1783.      1822.     ] 2645.0\n",
      "[1256.99998 1783.      1822.      2645.     ] 2251.0\n",
      "[1783. 1822. 2645. 2251.] 2398.0\n",
      "[1822. 2645. 2251. 2398.] 0.0\n",
      "[2645. 2251. 2398.    0.] 1267.0\n",
      "[2251. 2398.    0. 1267.] 1535.0\n",
      "[2398.    0. 1267. 1535.] 1627.0\n",
      "[   0. 1267. 1535. 1627.] 1617.00002\n",
      "[1267.      1535.      1627.      1617.00002] 2251.0\n",
      "[1535.      1627.      1617.00002 2251.     ] 1294.0\n",
      "[1627.      1617.00002 2251.      1294.     ] 0.0\n",
      "[1617.00002 2251.      1294.         0.     ] 1159.0\n",
      "[2251. 1294.    0. 1159.] 1236.0\n",
      "[1294.    0. 1159. 1236.] 963.0\n",
      "[   0. 1159. 1236.  963.] 1629.0\n",
      "[1159. 1236.  963. 1629.] 1804.0\n",
      "[1236.  963. 1629. 1804.] 1548.0\n",
      "[ 963. 1629. 1804. 1548.] 0.0\n",
      "[1629. 1804. 1548.    0.] 2355.0\n",
      "[1804. 1548.    0. 2355.] 3102.9999\n",
      "[1548.        0.     2355.     3102.9999] 2245.00002\n",
      "[   0.      2355.      3102.9999  2245.00002] 1227.0\n",
      "[2355.      3102.9999  2245.00002 1227.     ] 2896.0\n",
      "[3102.9999  2245.00002 1227.      2896.     ] 1218.0\n",
      "[2245.00002 1227.      2896.      1218.     ] 0.0\n",
      "[1227. 2896. 1218.    0.] 1092.0\n",
      "[2896. 1218.    0. 1092.] 1211.0\n",
      "[1218.    0. 1092. 1211.] 1245.0\n",
      "[   0. 1092. 1211. 1245.] 1592.0\n",
      "[1092. 1211. 1245. 1592.] 1460.0\n",
      "[1211. 1245. 1592. 1460.] 1253.0\n",
      "[1245. 1592. 1460. 1253.] 915.0\n",
      "[1592. 1460. 1253.  915.] 1634.0\n",
      "[1460. 1253.  915. 1634.] 3478.0\n",
      "[1253.  915. 1634. 3478.] 2235.0\n",
      "[ 915. 1634. 3478. 2235.] 1510.0\n",
      "[1634. 3478. 2235. 1510.] 1771.0\n",
      "[3478. 2235. 1510. 1771.] 1243.0\n",
      "[2235. 1510. 1771. 1243.] 939.0\n",
      "[1510. 1771. 1243.  939.] 1163.0\n",
      "[1771. 1243.  939. 1163.] 1210.0\n",
      "[1243.  939. 1163. 1210.] 1462.0\n",
      "[ 939. 1163. 1210. 1462.] 1413.0\n",
      "[1163. 1210. 1462. 1413.] 1262.0\n",
      "[1210. 1462. 1413. 1262.] 1785.0\n",
      "[1462. 1413. 1262. 1785.] 0.0\n",
      "[1413. 1262. 1785.    0.] 1872.0\n",
      "[1262. 1785.    0. 1872.] 1569.0\n",
      "[1785.    0. 1872. 1569.] 1746.0\n",
      "[   0. 1872. 1569. 1746.] 1590.0\n",
      "[1872. 1569. 1746. 1590.] 2627.0\n",
      "[1569. 1746. 1590. 2627.] 2029.0\n",
      "[1746. 1590. 2627. 2029.] 984.0\n",
      "[1590. 2627. 2029.  984.] 1469.0\n",
      "[2627. 2029.  984. 1469.] 2193.0\n",
      "[2029.  984. 1469. 2193.] 1656.0\n",
      "[ 984. 1469. 2193. 1656.] 1783.0\n",
      "[1469. 2193. 1656. 1783.] 1820.0\n",
      "[2193. 1656. 1783. 1820.] 1852.0\n",
      "[1656. 1783. 1820. 1852.] 1475.0\n",
      "[1783. 1820. 1852. 1475.] 1254.0\n",
      "[1820. 1852. 1475. 1254.] 1793.0\n",
      "[1852. 1475. 1254. 1793.] 776.0\n",
      "[1475. 1254. 1793.  776.] 1133.0\n",
      "[1254. 1793.  776. 1133.] 1255.0\n",
      "[1793.  776. 1133. 1255.] 1638.0\n",
      "[ 776. 1133. 1255. 1638.] 828.0\n",
      "[1133. 1255. 1638.  828.] 1191.0\n",
      "[1255. 1638.  828. 1191.] 1549.0\n",
      "[1638.  828. 1191. 1549.] 1314.0\n",
      "[ 828. 1191. 1549. 1314.] 1408.0\n",
      "[1191. 1549. 1314. 1408.] 1471.0\n",
      "[1549. 1314. 1408. 1471.] 2657.0\n",
      "[1314. 1408. 1471. 2657.] 1050.0\n",
      "[1408. 1471. 2657. 1050.] 1226.0\n",
      "[1471. 2657. 1050. 1226.] 1306.0\n",
      "[2657. 1050. 1226. 1306.] 0.0\n",
      "[1050. 1226. 1306.    0.] 1063.0\n",
      "[1226. 1306.    0. 1063.] 1852.0\n",
      "[1306.    0. 1063. 1852.] 1129.0\n",
      "[   0. 1063. 1852. 1129.] 0.0\n",
      "[1063. 1852. 1129.    0.] 1002.0\n",
      "[1852. 1129.    0. 1002.] 1257.0\n",
      "[1129.    0. 1002. 1257.] 1144.0\n",
      "[   0. 1002. 1257. 1144.] 1204.0\n",
      "[1002. 1257. 1144. 1204.] 1745.0\n",
      "[1257. 1144. 1204. 1745.] 1285.0\n",
      "[1144. 1204. 1745. 1285.] 626.0\n",
      "[1204. 1745. 1285.  626.] 1497.0\n",
      "[1745. 1285.  626. 1497.] 2246.0\n",
      "[1285.  626. 1497. 2246.] 1934.0\n",
      "[ 626. 1497. 2246. 1934.] 1701.00002\n",
      "[1497.      2246.      1934.      1701.00002] 2015.0\n",
      "[2246.      1934.      1701.00002 2015.     ] 2496.00002\n",
      "[1934.      1701.00002 2015.      2496.00002] 815.0\n",
      "[1701.00002 2015.      2496.00002  815.     ] 1489.0\n",
      "[2015.      2496.00002  815.      1489.     ] 1371.0\n",
      "[2496.00002  815.      1489.      1371.     ] 1440.0\n",
      "[ 815. 1489. 1371. 1440.] 1371.0\n",
      "[1489. 1371. 1440. 1371.] 1306.0\n",
      "[1371. 1440. 1371. 1306.] 1265.0\n",
      "[1440. 1371. 1306. 1265.] 563.0\n",
      "[1371. 1306. 1265.  563.] 2563.0\n",
      "[1306. 1265.  563. 2563.] 2201.0\n",
      "[1265.  563. 2563. 2201.] 1366.0\n",
      "[ 563. 2563. 2201. 1366.] 1448.0\n",
      "[2563. 2201. 1366. 1448.] 1410.0\n",
      "[2201. 1366. 1448. 1410.] 1491.0\n",
      "[1366. 1448. 1410. 1491.] 820.0\n",
      "[1448. 1410. 1491.  820.] 1843.0\n",
      "[1410. 1491.  820. 1843.] 1755.0\n",
      "[1491.  820. 1843. 1755.] 2112.0\n",
      "[ 820. 1843. 1755. 2112.] 1836.0\n",
      "[1843. 1755. 2112. 1836.] 2156.0\n",
      "[1755. 2112. 1836. 2156.] 1109.0\n",
      "[2112. 1836. 2156. 1109.] 1352.0\n",
      "[1836. 2156. 1109. 1352.] 1573.0\n",
      "[2156. 1109. 1352. 1573.] 3819.0\n",
      "[1109. 1352. 1573. 3819.] 1447.0\n",
      "[1352. 1573. 3819. 1447.] 1528.0\n",
      "[1573. 3819. 1447. 1528.] 1522.0\n",
      "[3819. 1447. 1528. 1522.] 1091.00002\n",
      "[1447.      1528.      1522.      1091.00002] 1002.0\n",
      "[1528.      1522.      1091.00002 1002.     ] 1059.0\n",
      "[1522.      1091.00002 1002.      1059.     ] 1686.0\n",
      "[1091.00002 1002.      1059.      1686.     ] 1559.0\n",
      "[1002. 1059. 1686. 1559.] 1215.0\n",
      "[1059. 1686. 1559. 1215.] 1396.0\n",
      "[1686. 1559. 1215. 1396.] 1367.0\n",
      "[1559. 1215. 1396. 1367.] 191.0\n",
      "[1215. 1396. 1367.  191.] 411.0\n",
      "[1396. 1367.  191.  411.] 516.0\n",
      "[1367.  191.  411.  516.] 617.0\n",
      "[191. 411. 516. 617.] 741.0\n",
      "[411. 516. 617. 741.] 624.0\n",
      "[516. 617. 741. 624.] 796.0\n",
      "[617. 741. 624. 796.] 863.0\n",
      "[741. 624. 796. 863.] 701.0\n",
      "[624. 796. 863. 701.] 1026.0\n",
      "[ 796.  863.  701. 1026.] 593.0\n",
      "[ 863.  701. 1026.  593.] 1160.0\n",
      "[ 701. 1026.  593. 1160.] 761.00002\n",
      "[1026.       593.      1160.       761.00002] 1611.0\n",
      "[ 593.      1160.       761.00002 1611.     ] 732.0\n",
      "[1160.       761.00002 1611.       732.     ] 869.0\n",
      "[ 761.00002 1611.       732.       869.     ] 1338.5\n"
     ]
    }
   ],
   "source": [
    "for i in range(len(X)):\n",
    "\n",
    "    print(X[i], Y[i])"
   ]
  },
  {
   "cell_type": "code",
   "execution_count": 32,
   "id": "4d01095c",
   "metadata": {},
   "outputs": [
    {
     "data": {
      "text/plain": [
       "Sales    False\n",
       "dtype: bool"
      ]
     },
     "execution_count": 32,
     "metadata": {},
     "output_type": "execute_result"
    }
   ],
   "source": [
    "#check for missing\n",
    "\n",
    "daily.isnull().any()"
   ]
  },
  {
   "cell_type": "code",
   "execution_count": 33,
   "id": "3895a21a",
   "metadata": {},
   "outputs": [
    {
     "data": {
      "text/html": [
       "<div>\n",
       "<style scoped>\n",
       "    .dataframe tbody tr th:only-of-type {\n",
       "        vertical-align: middle;\n",
       "    }\n",
       "\n",
       "    .dataframe tbody tr th {\n",
       "        vertical-align: top;\n",
       "    }\n",
       "\n",
       "    .dataframe thead th {\n",
       "        text-align: right;\n",
       "    }\n",
       "</style>\n",
       "<table border=\"1\" class=\"dataframe\">\n",
       "  <thead>\n",
       "    <tr style=\"text-align: right;\">\n",
       "      <th></th>\n",
       "      <th>Sales</th>\n",
       "    </tr>\n",
       "  </thead>\n",
       "  <tbody>\n",
       "    <tr>\n",
       "      <th>count</th>\n",
       "      <td>214.000000</td>\n",
       "    </tr>\n",
       "    <tr>\n",
       "      <th>mean</th>\n",
       "      <td>1444.035046</td>\n",
       "    </tr>\n",
       "    <tr>\n",
       "      <th>std</th>\n",
       "      <td>752.709611</td>\n",
       "    </tr>\n",
       "    <tr>\n",
       "      <th>min</th>\n",
       "      <td>0.000000</td>\n",
       "    </tr>\n",
       "    <tr>\n",
       "      <th>25%</th>\n",
       "      <td>1112.000000</td>\n",
       "    </tr>\n",
       "    <tr>\n",
       "      <th>50%</th>\n",
       "      <td>1402.000000</td>\n",
       "    </tr>\n",
       "    <tr>\n",
       "      <th>75%</th>\n",
       "      <td>1808.500000</td>\n",
       "    </tr>\n",
       "    <tr>\n",
       "      <th>max</th>\n",
       "      <td>3840.000000</td>\n",
       "    </tr>\n",
       "  </tbody>\n",
       "</table>\n",
       "</div>"
      ],
      "text/plain": [
       "             Sales\n",
       "count   214.000000\n",
       "mean   1444.035046\n",
       "std     752.709611\n",
       "min       0.000000\n",
       "25%    1112.000000\n",
       "50%    1402.000000\n",
       "75%    1808.500000\n",
       "max    3840.000000"
      ]
     },
     "execution_count": 33,
     "metadata": {},
     "output_type": "execute_result"
    }
   ],
   "source": [
    "#data distribution\n",
    "daily.describe()"
   ]
  },
  {
   "cell_type": "markdown",
   "id": "f2b22cf7",
   "metadata": {},
   "source": [
    "# 2)"
   ]
  },
  {
   "cell_type": "code",
   "execution_count": 41,
   "id": "37972d45",
   "metadata": {},
   "outputs": [],
   "source": [
    "daily_students['Date'] =  pd.to_datetime(daily_students['Date'])\n",
    "daily_staff['Product'] =  pd.to_datetime(daily_staff['Product'])\n",
    "daily_tourism['Date'] =  pd.to_datetime(daily_tourism['Date'])"
   ]
  },
  {
   "cell_type": "markdown",
   "id": "b3479cde",
   "metadata": {},
   "source": [
    "# Daily Students \n",
    "\n",
    "The revenue generated by each flavour is listed in decending order. S. Caramel is the flavour with highest revenue of 25201, followed by mint choco and mango st. \n",
    "\n",
    "Stamp card, gift voucher, triple and double scoop result in negative revenue"
   ]
  },
  {
   "cell_type": "code",
   "execution_count": 63,
   "id": "4c657460",
   "metadata": {},
   "outputs": [
    {
     "data": {
      "text/plain": [
       "S. Caramel St                25201.79338\n",
       "Mint Choco  St               14861.04761\n",
       "Mango St                     14128.30953\n",
       "Chocolate St                 13906.33333\n",
       "Pure Coco . St               13570.33333\n",
       "Strawberry St                11541.50000\n",
       "Chai Tea st                   9952.83333\n",
       "Hazelnut St                   9824.66666\n",
       "Green Tea St                  9667.50000\n",
       "Banana Caramel St             9197.49999\n",
       "Waffle Cone St                8707.51613\n",
       "Pina Colada St                5301.50000\n",
       "IceCream Sand St              5010.00000\n",
       "Coffee  St                    4938.33333\n",
       "Vanilla Bean St               4937.50000\n",
       "Cherry Almond Fudge st        4570.99999\n",
       "YY Seasame St                 4363.50001\n",
       "Apricot ST                    2054.00000\n",
       "Red Bean St                   1896.33334\n",
       "Lime Coconut ST               1661.50001\n",
       "Ginger St                      988.00000\n",
       "Pistachio St                   702.00000\n",
       "1 Toppings St                  333.00000\n",
       "Up 3 Toppings  ST              196.00000\n",
       "Cus. IC Sand St                180.00000\n",
       "Purchase  Gift Voucher st       26.00000\n",
       "Single Scoop ST                  0.00000\n",
       "Tub Ice Cream ST                 0.00000\n",
       "Stamp Card REDEEM ST          -208.00000\n",
       "Gift Voucher ST               -390.00000\n",
       "Triple Scoop ST              -1118.00000\n",
       "Double Scoop ST              -9802.00000\n",
       "dtype: float64"
      ]
     },
     "execution_count": 63,
     "metadata": {},
     "output_type": "execute_result"
    }
   ],
   "source": [
    "daily_students.groupby(pd.Grouper(freq='Y', key='Date')).sum().max().sort_values(ascending=False)"
   ]
  },
  {
   "cell_type": "code",
   "execution_count": 65,
   "id": "432e7f2b",
   "metadata": {},
   "outputs": [
    {
     "data": {
      "text/plain": [
       "166199.99997"
      ]
     },
     "execution_count": 65,
     "metadata": {},
     "output_type": "execute_result"
    }
   ],
   "source": [
    "#students had total revenue of 166199.99\n",
    "\n",
    "daily_students.groupby(pd.Grouper(freq='Y', key='Date')).sum().max().sum()"
   ]
  },
  {
   "cell_type": "markdown",
   "id": "bbf2f120",
   "metadata": {},
   "source": [
    "# Daily Staff\n",
    "\n",
    "\n",
    "The revenue generated by each flavour is listed in decending order. S. Caramel is the flavour with highest revenue of 10226.21211, followed by mango and chocolate. \n",
    "\n",
    "triple and double scoop result in negative revenue"
   ]
  },
  {
   "cell_type": "code",
   "execution_count": 67,
   "id": "7b293d93",
   "metadata": {},
   "outputs": [
    {
     "data": {
      "text/plain": [
       "S. Caramel Staff        10226.21211\n",
       "Mango Staff              8030.09090\n",
       "Chocolate Staff          6863.87878\n",
       "Pure Coconut Staff       5729.09090\n",
       "Mint Choco Staff         5542.87878\n",
       "Strawberry Staff         5426.75757\n",
       "Waffle Cone Staff        4079.50000\n",
       "Chai Tea Staff           3986.59090\n",
       "Hezelnut Staff           3296.21212\n",
       "Green Tea Staff          3056.59090\n",
       "Pina Colada Staff        2787.87878\n",
       "Coffee Staff             2575.54545\n",
       "Banana Staff             2546.21211\n",
       "YY Seasame Staff         2309.54545\n",
       "Vanilla Bean Staff       2273.25757\n",
       "Ice Cream Sand Staff     1836.00000\n",
       "Cherry Alm Staff         1769.54545\n",
       "Apricot Staff            1440.00000\n",
       "Red Bean Staff           1342.21211\n",
       "Lime Coconut Staff        990.00000\n",
       "Pistachio Staff           870.00000\n",
       "Ginger Staff              840.00000\n",
       "1 Topping Staff           131.00000\n",
       "Cus IC Sand Staff          84.00000\n",
       "3 Topping Staff            56.00000\n",
       "Single Scoop Staff          0.00000\n",
       "Tub Staff                   0.00000\n",
       "Triple Scoop Staff       -342.00000\n",
       "Double Scoop Staff      -3930.00000\n",
       "dtype: float64"
      ]
     },
     "execution_count": 67,
     "metadata": {},
     "output_type": "execute_result"
    }
   ],
   "source": [
    "daily_staff.groupby(pd.Grouper(freq='Y', key='Product')).sum().max().sort_values(ascending=False)"
   ]
  },
  {
   "cell_type": "code",
   "execution_count": 69,
   "id": "a20c84ce",
   "metadata": {},
   "outputs": [
    {
     "data": {
      "text/plain": [
       "73816.99988"
      ]
     },
     "execution_count": 69,
     "metadata": {},
     "output_type": "execute_result"
    }
   ],
   "source": [
    "#staff had total revenue of 73816.99988\n",
    "\n",
    "daily_staff.groupby(pd.Grouper(freq='Y', key='Product')).sum().max().sum()"
   ]
  },
  {
   "cell_type": "markdown",
   "id": "9ac336a6",
   "metadata": {},
   "source": [
    "# Daily Tourism\n",
    "\n",
    "\n",
    "The revenue generated by each flavour is listed in decending order.Mango is the flavour with highest revenue of 4310.83334, followed by Chocolate and Strawberry. \n",
    "\n",
    "Gift coupon 3 cone, triple scoop, Finger B 100,and Double Scoop result in negative revenue"
   ]
  },
  {
   "cell_type": "code",
   "execution_count": 71,
   "id": "c83838de",
   "metadata": {},
   "outputs": [
    {
     "data": {
      "text/plain": [
       "Mango                 4310.83334\n",
       "Chocolate             3999.24528\n",
       "Strawberry            3760.00000\n",
       "S. Caramel            3560.00000\n",
       "Pure Coco .           3240.00000\n",
       "Mint Choco            2560.00000\n",
       "Waffle Cone           2326.01572\n",
       "Green Tea             2200.00000\n",
       "Hazelnut              2040.00000\n",
       "Vanilla Bean          1640.00000\n",
       "Chai Tea              1520.00000\n",
       "Pina Colada           1280.00000\n",
       "Banana Caramel  /     1240.00000\n",
       "Coffee                1200.00000\n",
       "Cherry Almond         1160.00000\n",
       "YY Seasame             920.00000\n",
       "Lime Coconut           800.00000\n",
       "Chocoate Cookies       675.00000\n",
       "Ice Cream SAND         405.00000\n",
       "Red Bean               360.00000\n",
       "Ginger                 320.00000\n",
       "Miscellenous           293.00000\n",
       "Granola                100.00000\n",
       "Apricot                 80.00000\n",
       "1 Topping               79.90566\n",
       "3 Topping               20.00000\n",
       "Single Scoop             0.00000\n",
       "Tub Ice Cream            0.00000\n",
       "Gift coupon 3 cone    -261.00000\n",
       "Triple Scoop          -280.00000\n",
       "Finger B 100          -720.00000\n",
       "Double Scoop         -1440.00000\n",
       "dtype: float64"
      ]
     },
     "execution_count": 71,
     "metadata": {},
     "output_type": "execute_result"
    }
   ],
   "source": [
    "daily_tourism.groupby(pd.Grouper(freq='Y', key='Date')).sum().max().sort_values(ascending=False)"
   ]
  },
  {
   "cell_type": "code",
   "execution_count": 73,
   "id": "70036cfd",
   "metadata": {},
   "outputs": [
    {
     "data": {
      "text/plain": [
       "37388.0"
      ]
     },
     "execution_count": 73,
     "metadata": {},
     "output_type": "execute_result"
    }
   ],
   "source": [
    "#tourism had total revenue of 73816.99988\n",
    "\n",
    "daily_tourism.groupby(pd.Grouper(freq='Y', key='Date')).sum().max().sum()"
   ]
  },
  {
   "cell_type": "code",
   "execution_count": 74,
   "id": "05b468cc",
   "metadata": {},
   "outputs": [
    {
     "data": {
      "text/plain": [
       "277404.99985"
      ]
     },
     "execution_count": 74,
     "metadata": {},
     "output_type": "execute_result"
    }
   ],
   "source": [
    "37388.0 + 73816.99988 + 166199.99997\n"
   ]
  },
  {
   "cell_type": "markdown",
   "id": "4cadeece",
   "metadata": {},
   "source": [
    "# Summary\n",
    "\n",
    "Total sales are: 277404.99985\n",
    "\n",
    "where students are 166199.99997,\n",
    "staff are 73816.99988\n",
    "and tourism is 37388.0\n",
    "\n",
    "S carmal, mango, chocolate are some of the top falvours and double and triple scoop always results in negative revenue"
   ]
  },
  {
   "cell_type": "markdown",
   "id": "5b101f4b",
   "metadata": {},
   "source": [
    "# 3)"
   ]
  },
  {
   "cell_type": "code",
   "execution_count": 78,
   "id": "479fd5b6",
   "metadata": {},
   "outputs": [
    {
     "data": {
      "text/plain": [
       "Index(['Date', '1 Toppings St', 'Apricot ST', 'Banana Caramel St',\n",
       "       'Chai Tea st', 'Cherry Almond Fudge st', 'Chocolate St', 'Coffee  St',\n",
       "       'Cus. IC Sand St', 'Double Scoop ST', 'Gift Voucher ST', 'Ginger St',\n",
       "       'Green Tea St', 'Hazelnut St', 'IceCream Sand St', 'Lime Coconut ST',\n",
       "       'Mango St', 'Mint Choco  St', 'Pina Colada St', 'Pistachio St',\n",
       "       'Purchase  Gift Voucher st', 'Pure Coco . St', 'Red Bean St',\n",
       "       'S. Caramel St', 'Single Scoop ST', 'Stamp Card REDEEM ST',\n",
       "       'Strawberry St', 'Triple Scoop ST', 'Tub Ice Cream ST',\n",
       "       'Up 3 Toppings  ST', 'Vanilla Bean St', 'Waffle Cone St',\n",
       "       'YY Seasame St'],\n",
       "      dtype='object')"
      ]
     },
     "execution_count": 78,
     "metadata": {},
     "output_type": "execute_result"
    }
   ],
   "source": [
    "daily_students.columns"
   ]
  },
  {
   "cell_type": "markdown",
   "id": "4ed215ca",
   "metadata": {},
   "source": [
    "# Groups\n",
    "\n",
    "Favlours -\n",
    "\n",
    "Fruit Flavour: Apricot, Cherry Almond Fudge, Mango, Pistachio, Strawberry\n",
    "\n",
    "Drink Flavour: Chai Tea, Coffee, Green Tea \n",
    "\n",
    "Chocolate: Chocolate, Mint Choco, Pure coco\n",
    "\n",
    "Tropical: Lime coconut, Pina colada, Red Bean, Vinilla, ginger\n",
    "\n",
    "Caramel: Banana Caramel, Caramel\n",
    "\n",
    "Nuts: Hazelnut, Cherry Almond Fudge st, Seasame\n",
    "\n",
    "\n",
    "Topping -\n",
    "\n",
    "1 topping, up 3 topping\n",
    "\n",
    "Size:\n",
    "\n",
    "Single scoop, double scoop, triple scoop, tub ice cream, sandwitch, cone\n",
    "\n"
   ]
  },
  {
   "cell_type": "code",
   "execution_count": 79,
   "id": "3f0ac42c",
   "metadata": {},
   "outputs": [],
   "source": [
    "daily_staff.rename(columns = {'Product':'Date'}, inplace = True)\n"
   ]
  },
  {
   "cell_type": "code",
   "execution_count": 87,
   "id": "995340a4",
   "metadata": {},
   "outputs": [
    {
     "data": {
      "text/plain": [
       "Index(['Date', '1 Toppings St', 'Apricot ST', 'Banana Caramel St',\n",
       "       'Chai Tea st', 'Cherry Almond Fudge st', 'Chocolate St', 'Coffee  St',\n",
       "       'Cus. IC Sand St', 'Double Scoop ST', 'Gift Voucher ST', 'Ginger St',\n",
       "       'Green Tea St', 'Hazelnut St', 'IceCream Sand St', 'Lime Coconut ST',\n",
       "       'Mango St', 'Mint Choco  St', 'Pina Colada St', 'Pistachio St',\n",
       "       'Purchase  Gift Voucher st', 'Pure Coco . St', 'Red Bean St',\n",
       "       'S. Caramel St', 'Single Scoop ST', 'Stamp Card REDEEM ST',\n",
       "       'Strawberry St', 'Triple Scoop ST', 'Tub Ice Cream ST',\n",
       "       'Up 3 Toppings  ST', 'Vanilla Bean St', 'Waffle Cone St',\n",
       "       'YY Seasame St'],\n",
       "      dtype='object')"
      ]
     },
     "execution_count": 87,
     "metadata": {},
     "output_type": "execute_result"
    }
   ],
   "source": [
    "daily_students.columns"
   ]
  },
  {
   "cell_type": "code",
   "execution_count": 89,
   "id": "d1f557ad",
   "metadata": {},
   "outputs": [],
   "source": [
    "daily_students['Fruit'] = daily_students['Apricot ST'] + daily_students['Cherry Almond Fudge st'] + daily_students['Mango St'] + daily_students['Pistachio St'] + daily_students['Strawberry St']"
   ]
  },
  {
   "cell_type": "code",
   "execution_count": 90,
   "id": "fb470fb0",
   "metadata": {},
   "outputs": [],
   "source": [
    "daily_students['Drink'] = daily_students['Chai Tea st'] + daily_students['Coffee  St'] + daily_students['Green Tea St']"
   ]
  },
  {
   "cell_type": "code",
   "execution_count": 91,
   "id": "55a58274",
   "metadata": {},
   "outputs": [],
   "source": [
    "daily_students['Chocolate'] = daily_students['Chocolate St'] + daily_students['Mint Choco  St'] + daily_students['Pure Coco . St']"
   ]
  },
  {
   "cell_type": "code",
   "execution_count": 92,
   "id": "27cda6d1",
   "metadata": {},
   "outputs": [],
   "source": [
    "daily_students['Tropical'] = daily_students['Lime Coconut ST'] + daily_students['Pina Colada St'] + daily_students['Red Bean St'] + daily_students['Vanilla Bean St']  + daily_students['Ginger St'] "
   ]
  },
  {
   "cell_type": "code",
   "execution_count": 93,
   "id": "ca31518c",
   "metadata": {},
   "outputs": [],
   "source": [
    "daily_students['Caramel'] = daily_students['Banana Caramel St'] + daily_students['S. Caramel St'] "
   ]
  },
  {
   "cell_type": "code",
   "execution_count": 95,
   "id": "44011338",
   "metadata": {},
   "outputs": [],
   "source": [
    "daily_students['Nuts'] = daily_students['Hazelnut St'] + daily_students['Cherry Almond Fudge st'] + daily_students['YY Seasame St'] "
   ]
  },
  {
   "cell_type": "markdown",
   "id": "16531aea",
   "metadata": {},
   "source": [
    "# Flavour Groups Students\n",
    "\n",
    "Looking at the flavour groups we created, we can see that chocolate group is the most popular in the first 4 months, followed by caramel.Also the first month has the largest sales. Furthermore, over the months the distribution of each group has started to became similar where in the last month all groups except tropical have simialar sales with drinks group being most popular. Tropical group has the lowest sales overall."
   ]
  },
  {
   "cell_type": "code",
   "execution_count": 116,
   "id": "0e823a5d",
   "metadata": {},
   "outputs": [
    {
     "data": {
      "text/plain": [
       "<AxesSubplot:xlabel='Date'>"
      ]
     },
     "execution_count": 116,
     "metadata": {},
     "output_type": "execute_result"
    },
    {
     "data": {
      "image/png": "[encoded data removed]",
      "text/plain": [
       "<Figure size 1080x720 with 1 Axes>"
      ]
     },
     "metadata": {
      "needs_background": "light"
     },
     "output_type": "display_data"
    }
   ],
   "source": [
    "import matplotlib.pyplot as plt\n",
    "\n",
    "daily_students.groupby(pd.Grouper(freq='M', key='Date')).sum().plot( y=[\"Fruit\", \"Drink\", \"Chocolate\", \"Tropical\", \"Caramel\", \"Nuts\"], kind=\"bar\", figsize=(15,10))\n"
   ]
  },
  {
   "cell_type": "markdown",
   "id": "da4da8b4",
   "metadata": {},
   "source": [
    "# Toppings \n",
    "\n",
    "1 toppings is the popular choice except for month 3 where 3 toppings are more popular"
   ]
  },
  {
   "cell_type": "code",
   "execution_count": 117,
   "id": "89e02564",
   "metadata": {},
   "outputs": [
    {
     "data": {
      "text/plain": [
       "<AxesSubplot:xlabel='Date'>"
      ]
     },
     "execution_count": 117,
     "metadata": {},
     "output_type": "execute_result"
    },
    {
     "data": {
      "image/png": "[encoded data removed]",
      "text/plain": [
       "<Figure size 1080x720 with 1 Axes>"
      ]
     },
     "metadata": {
      "needs_background": "light"
     },
     "output_type": "display_data"
    }
   ],
   "source": [
    "daily_students.groupby(pd.Grouper(freq='M', key='Date')).sum().plot( y=[\"1 Toppings St\", \"Up 3 Toppings  ST\"], kind=\"bar\", figsize=(15,10))\n"
   ]
  },
  {
   "cell_type": "markdown",
   "id": "a8bf4a3b",
   "metadata": {},
   "source": [
    "# Looking at flavours individually vs groups\n",
    "\n",
    "The management is correct that different groups perform better in diffrent times of months as noted and discussed in visualizations above.\n",
    "\n",
    "For analysis looking at flavours in group and individually both give valuable insights and should be looked at collectiely. Looking at groups gives a better overview and direct comparison between types of flavours, whereas looking indivually allows us to better understand exactly what flavours are the most popular as their might be some flavours in a group which are not selling but because of another flavour in the group which is very popular, that flavour might be overlooked and thought of as selling. Therefore it is important to analyze groups and look into the groups to see what flavours are popular within the groups. \n",
    "\n",
    "Individually we can see that chocolate is the most popular flavour, followed by caramel for the first few months. "
   ]
  },
  {
   "cell_type": "code",
   "execution_count": 125,
   "id": "9ee7b26e",
   "metadata": {},
   "outputs": [
    {
     "data": {
      "text/plain": [
       "<AxesSubplot:xlabel='Date'>"
      ]
     },
     "execution_count": 125,
     "metadata": {},
     "output_type": "execute_result"
    },
    {
     "data": {
      "image/png": "[encoded data removed]",
      "text/plain": [
       "<Figure size 1080x720 with 1 Axes>"
      ]
     },
     "metadata": {
      "needs_background": "light"
     },
     "output_type": "display_data"
    }
   ],
   "source": [
    "\n",
    "daily_students.groupby(pd.Grouper(freq='M', key='Date')).sum().plot( y=['Apricot ST', 'Banana Caramel St',\n",
    "       'Chai Tea st', 'Cherry Almond Fudge st', 'Chocolate St', 'Coffee  St',\n",
    "       'Cus. IC Sand St', 'Ginger St',\n",
    "       'Green Tea St', 'Hazelnut St', 'Lime Coconut ST',\n",
    "       'Mango St', 'Mint Choco  St', 'Pina Colada St', 'Pistachio St',\n",
    "       'Purchase  Gift Voucher st', 'Pure Coco . St', 'Red Bean St',\n",
    "       'S. Caramel St', 'Stamp Card REDEEM ST',\n",
    "       'Strawberry St', 'Vanilla Bean St',\n",
    "       'YY Seasame St', 'Fruit', 'Drink', 'Chocolate', 'Tropical', 'Caramel',\n",
    "       'Nuts'], kind=\"bar\", figsize=(15,10))\n"
   ]
  },
  {
   "cell_type": "code",
   "execution_count": 140,
   "id": "6bd5d738",
   "metadata": {},
   "outputs": [
    {
     "data": {
      "text/plain": [
       "Index(['Date', 'S. Caramel Staff', 'Mango Staff', 'Chocolate Staff',\n",
       "       'Pure Coconut Staff', 'Mint Choco Staff', 'Strawberry Staff',\n",
       "       'Waffle Cone Staff', 'Chai Tea Staff', 'Hezelnut Staff',\n",
       "       'Green Tea Staff', 'Pina Colada Staff', 'Coffee Staff', 'Banana Staff',\n",
       "       'YY Seasame Staff', 'Vanilla Bean Staff', 'Ice Cream Sand Staff',\n",
       "       'Cherry Alm Staff', 'Apricot Staff', 'Red Bean Staff',\n",
       "       'Lime Coconut Staff', 'Pistachio Staff', 'Ginger Staff',\n",
       "       '1 Topping Staff', 'Cus IC Sand Staff', '3 Topping Staff',\n",
       "       'Single Scoop Staff', 'Tub Staff', 'Triple Scoop Staff',\n",
       "       'Double Scoop Staff', 'Drink', 'Chocolate', 'Fruit', 'Caramel', 'Nuts',\n",
       "       'Tropical'],\n",
       "      dtype='object')"
      ]
     },
     "execution_count": 140,
     "metadata": {},
     "output_type": "execute_result"
    }
   ],
   "source": [
    "# same steps and reasoning repeated for tourism and staff\n",
    "daily_staff.columns"
   ]
  },
  {
   "cell_type": "code",
   "execution_count": 138,
   "id": "e0c46893",
   "metadata": {},
   "outputs": [],
   "source": [
    "daily_staff['Drink'] = daily_staff['Chai Tea Staff'] + daily_staff['Coffee Staff'] + daily_staff['Green Tea Staff']\n",
    "daily_staff['Chocolate'] = daily_staff['Chocolate Staff'] + daily_staff['Mint Choco Staff'] \n",
    "daily_staff['Fruit'] = daily_staff['Apricot Staff'] + daily_staff['Mango Staff'] + daily_staff['Pistachio Staff'] + daily_staff['Strawberry Staff']\n",
    "daily_staff['Caramel'] =  daily_staff['S. Caramel Staff'] \n",
    "daily_staff['Nuts'] =  daily_staff['YY Seasame Staff'] \n",
    "daily_staff['Tropical'] = daily_staff['Lime Coconut Staff'] + daily_staff['Pina Colada Staff'] + daily_staff['Red Bean Staff'] + daily_staff['Vanilla Bean Staff']  + daily_staff['Ginger Staff'] + daily_staff['Pure Coconut Staff']\n"
   ]
  },
  {
   "cell_type": "markdown",
   "id": "d0989e08",
   "metadata": {},
   "source": [
    "# Flavour Groups Staff\n",
    "\n",
    "Fruits and tropical are the most popular flavours for staff expect for second month where chocolate is marginally more popular. Nuts are the least popular group. In contrast chocolate and caramel is the favourite for students"
   ]
  },
  {
   "cell_type": "code",
   "execution_count": 139,
   "id": "b4ac55bf",
   "metadata": {},
   "outputs": [
    {
     "data": {
      "text/plain": [
       "<AxesSubplot:xlabel='Date'>"
      ]
     },
     "execution_count": 139,
     "metadata": {},
     "output_type": "execute_result"
    },
    {
     "data": {
      "image/png": "[encoded data removed]",
      "text/plain": [
       "<Figure size 1080x720 with 1 Axes>"
      ]
     },
     "metadata": {
      "needs_background": "light"
     },
     "output_type": "display_data"
    }
   ],
   "source": [
    "daily_staff.groupby(pd.Grouper(freq='M', key='Date')).sum().plot( y=[\"Fruit\", \"Drink\", \"Chocolate\", \"Tropical\", \"Caramel\", \"Nuts\"], kind=\"bar\", figsize=(15,10))\n"
   ]
  },
  {
   "cell_type": "code",
   "execution_count": 141,
   "id": "123ca38f",
   "metadata": {},
   "outputs": [
    {
     "data": {
      "text/plain": [
       "Index(['Date', 'Mango', 'Chocolate', 'Strawberry', 'S. Caramel', 'Pure Coco .',\n",
       "       'Mint Choco', 'Waffle Cone', 'Green Tea', 'Hazelnut', 'Vanilla Bean',\n",
       "       'Chai Tea', 'Pina Colada', 'Banana Caramel  /', 'Coffee',\n",
       "       'Cherry Almond', 'YY Seasame', 'Lime Coconut', 'Chocoate Cookies',\n",
       "       'Ice Cream SAND', 'Red Bean', 'Ginger', 'Miscellenous', 'Granola',\n",
       "       'Apricot', '1 Topping', '3 Topping', 'Single Scoop', 'Tub Ice Cream',\n",
       "       'Gift coupon 3 cone', 'Triple Scoop', 'Finger B 100', 'Double Scoop'],\n",
       "      dtype='object')"
      ]
     },
     "execution_count": 141,
     "metadata": {},
     "output_type": "execute_result"
    }
   ],
   "source": [
    "daily_tourism.columns"
   ]
  },
  {
   "cell_type": "code",
   "execution_count": 145,
   "id": "75f2b8b9",
   "metadata": {},
   "outputs": [],
   "source": [
    "daily_tourism['Drink'] = daily_tourism['Chai Tea'] + daily_tourism['Coffee'] + daily_tourism['Green Tea']\n",
    "daily_tourism['Chocolate'] = daily_tourism['Chocolate'] + daily_tourism['Mint Choco'] \n",
    "daily_tourism['Fruit'] = daily_tourism['Apricot'] + daily_tourism['Mango'] +daily_tourism['Strawberry']\n",
    "daily_tourism['Caramel'] =  daily_tourism['S. Caramel'] \n",
    "daily_tourism['Nuts'] =  daily_tourism['YY Seasame'] \n",
    "daily_tourism['Tropical'] = daily_tourism['Lime Coconut'] + daily_tourism['Pina Colada'] + daily_tourism['Red Bean'] + daily_tourism['Vanilla Bean']  + daily_tourism['Ginger'] \n"
   ]
  },
  {
   "cell_type": "markdown",
   "id": "49b2fc77",
   "metadata": {},
   "source": [
    "# Flavour groups for tourism\n",
    "\n",
    "Chocolate is the most popular group for tourism followed by Fruit"
   ]
  },
  {
   "cell_type": "code",
   "execution_count": 146,
   "id": "e5f94e73",
   "metadata": {},
   "outputs": [
    {
     "data": {
      "text/plain": [
       "<AxesSubplot:xlabel='Date'>"
      ]
     },
     "execution_count": 146,
     "metadata": {},
     "output_type": "execute_result"
    },
    {
     "data": {
      "image/png": "[encoded data removed]",
      "text/plain": [
       "<Figure size 1080x720 with 1 Axes>"
      ]
     },
     "metadata": {
      "needs_background": "light"
     },
     "output_type": "display_data"
    }
   ],
   "source": [
    "daily_tourism.groupby(pd.Grouper(freq='M', key='Date')).sum().plot( y=[\"Fruit\", \"Drink\", \"Chocolate\", \"Tropical\", \"Caramel\", \"Nuts\"], kind=\"bar\", figsize=(15,10))\n"
   ]
  },
  {
   "cell_type": "markdown",
   "id": "110667d1",
   "metadata": {},
   "source": [
    "# 4)"
   ]
  },
  {
   "cell_type": "code",
   "execution_count": 148,
   "id": "42dead3e",
   "metadata": {},
   "outputs": [
    {
     "data": {
      "text/html": [
       "<div>\n",
       "<style scoped>\n",
       "    .dataframe tbody tr th:only-of-type {\n",
       "        vertical-align: middle;\n",
       "    }\n",
       "\n",
       "    .dataframe tbody tr th {\n",
       "        vertical-align: top;\n",
       "    }\n",
       "\n",
       "    .dataframe thead th {\n",
       "        text-align: right;\n",
       "    }\n",
       "</style>\n",
       "<table border=\"1\" class=\"dataframe\">\n",
       "  <thead>\n",
       "    <tr style=\"text-align: right;\">\n",
       "      <th></th>\n",
       "      <th>Sales</th>\n",
       "    </tr>\n",
       "  </thead>\n",
       "  <tbody>\n",
       "    <tr>\n",
       "      <th>count</th>\n",
       "      <td>214.000000</td>\n",
       "    </tr>\n",
       "    <tr>\n",
       "      <th>mean</th>\n",
       "      <td>1444.035046</td>\n",
       "    </tr>\n",
       "    <tr>\n",
       "      <th>std</th>\n",
       "      <td>752.709611</td>\n",
       "    </tr>\n",
       "    <tr>\n",
       "      <th>min</th>\n",
       "      <td>0.000000</td>\n",
       "    </tr>\n",
       "    <tr>\n",
       "      <th>25%</th>\n",
       "      <td>1112.000000</td>\n",
       "    </tr>\n",
       "    <tr>\n",
       "      <th>50%</th>\n",
       "      <td>1402.000000</td>\n",
       "    </tr>\n",
       "    <tr>\n",
       "      <th>75%</th>\n",
       "      <td>1808.500000</td>\n",
       "    </tr>\n",
       "    <tr>\n",
       "      <th>max</th>\n",
       "      <td>3840.000000</td>\n",
       "    </tr>\n",
       "  </tbody>\n",
       "</table>\n",
       "</div>"
      ],
      "text/plain": [
       "             Sales\n",
       "count   214.000000\n",
       "mean   1444.035046\n",
       "std     752.709611\n",
       "min       0.000000\n",
       "25%    1112.000000\n",
       "50%    1402.000000\n",
       "75%    1808.500000\n",
       "max    3840.000000"
      ]
     },
     "execution_count": 148,
     "metadata": {},
     "output_type": "execute_result"
    }
   ],
   "source": [
    "daily.describe()"
   ]
  },
  {
   "cell_type": "code",
   "execution_count": 151,
   "id": "63673a17",
   "metadata": {},
   "outputs": [
    {
     "data": {
      "text/html": [
       "<div>\n",
       "<style scoped>\n",
       "    .dataframe tbody tr th:only-of-type {\n",
       "        vertical-align: middle;\n",
       "    }\n",
       "\n",
       "    .dataframe tbody tr th {\n",
       "        vertical-align: top;\n",
       "    }\n",
       "\n",
       "    .dataframe thead th {\n",
       "        text-align: right;\n",
       "    }\n",
       "</style>\n",
       "<table border=\"1\" class=\"dataframe\">\n",
       "  <thead>\n",
       "    <tr style=\"text-align: right;\">\n",
       "      <th></th>\n",
       "      <th>Sales</th>\n",
       "    </tr>\n",
       "  </thead>\n",
       "  <tbody>\n",
       "    <tr>\n",
       "      <th>count</th>\n",
       "      <td>5136.000000</td>\n",
       "    </tr>\n",
       "    <tr>\n",
       "      <th>mean</th>\n",
       "      <td>60.168127</td>\n",
       "    </tr>\n",
       "    <tr>\n",
       "      <th>std</th>\n",
       "      <td>127.541303</td>\n",
       "    </tr>\n",
       "    <tr>\n",
       "      <th>min</th>\n",
       "      <td>-31.000000</td>\n",
       "    </tr>\n",
       "    <tr>\n",
       "      <th>25%</th>\n",
       "      <td>0.000000</td>\n",
       "    </tr>\n",
       "    <tr>\n",
       "      <th>50%</th>\n",
       "      <td>0.000000</td>\n",
       "    </tr>\n",
       "    <tr>\n",
       "      <th>75%</th>\n",
       "      <td>57.000000</td>\n",
       "    </tr>\n",
       "    <tr>\n",
       "      <th>max</th>\n",
       "      <td>2150.000000</td>\n",
       "    </tr>\n",
       "  </tbody>\n",
       "</table>\n",
       "</div>"
      ],
      "text/plain": [
       "             Sales\n",
       "count  5136.000000\n",
       "mean     60.168127\n",
       "std     127.541303\n",
       "min     -31.000000\n",
       "25%       0.000000\n",
       "50%       0.000000\n",
       "75%      57.000000\n",
       "max    2150.000000"
      ]
     },
     "execution_count": 151,
     "metadata": {},
     "output_type": "execute_result"
    }
   ],
   "source": [
    "hourly_ts.describe()"
   ]
  },
  {
   "cell_type": "markdown",
   "id": "2e276507",
   "metadata": {},
   "source": [
    "# Potential Outliers\n",
    "\n",
    "The minimum sale amount is negative, this could only be case if the company is recording refunds as a transaction but assuming that is not the case these negative values are outliers\n",
    "\n",
    "Furthermore the max sale amount of 2150 also seems high when compared to the mean and is likely a outlier\n",
    "\n",
    "These outliers could be typos where a negative sign is added by mistake and a extra 0 is added to 215. We can convert the negatives to positive and remove the extra 0 from 2150. Alternatively we can replace these values with the mean of the month or forward / back fill them. \n"
   ]
  },
  {
   "cell_type": "markdown",
   "id": "2da0fe51",
   "metadata": {},
   "source": [
    "# 5)"
   ]
  },
  {
   "cell_type": "code",
   "execution_count": 155,
   "id": "a0645bc1",
   "metadata": {},
   "outputs": [],
   "source": [
    "#In report"
   ]
  },
  {
   "cell_type": "markdown",
   "id": "958fa66e",
   "metadata": {},
   "source": [
    "# 6)"
   ]
  },
  {
   "cell_type": "code",
   "execution_count": 162,
   "id": "9a46ef3c",
   "metadata": {},
   "outputs": [
    {
     "data": {
      "text/html": [
       "<div>\n",
       "<style scoped>\n",
       "    .dataframe tbody tr th:only-of-type {\n",
       "        vertical-align: middle;\n",
       "    }\n",
       "\n",
       "    .dataframe tbody tr th {\n",
       "        vertical-align: top;\n",
       "    }\n",
       "\n",
       "    .dataframe thead th {\n",
       "        text-align: right;\n",
       "    }\n",
       "</style>\n",
       "<table border=\"1\" class=\"dataframe\">\n",
       "  <thead>\n",
       "    <tr style=\"text-align: right;\">\n",
       "      <th></th>\n",
       "      <th>Sales</th>\n",
       "    </tr>\n",
       "    <tr>\n",
       "      <th>Time</th>\n",
       "      <th></th>\n",
       "    </tr>\n",
       "  </thead>\n",
       "  <tbody>\n",
       "    <tr>\n",
       "      <th>2017-04-01</th>\n",
       "      <td>2348.00000</td>\n",
       "    </tr>\n",
       "    <tr>\n",
       "      <th>2017-04-02</th>\n",
       "      <td>0.00000</td>\n",
       "    </tr>\n",
       "    <tr>\n",
       "      <th>2017-04-03</th>\n",
       "      <td>3090.00000</td>\n",
       "    </tr>\n",
       "    <tr>\n",
       "      <th>2017-04-04</th>\n",
       "      <td>0.00000</td>\n",
       "    </tr>\n",
       "    <tr>\n",
       "      <th>2017-04-05</th>\n",
       "      <td>3840.00000</td>\n",
       "    </tr>\n",
       "    <tr>\n",
       "      <th>...</th>\n",
       "      <td>...</td>\n",
       "    </tr>\n",
       "    <tr>\n",
       "      <th>2017-10-27</th>\n",
       "      <td>761.00002</td>\n",
       "    </tr>\n",
       "    <tr>\n",
       "      <th>2017-10-28</th>\n",
       "      <td>1611.00000</td>\n",
       "    </tr>\n",
       "    <tr>\n",
       "      <th>2017-10-29</th>\n",
       "      <td>732.00000</td>\n",
       "    </tr>\n",
       "    <tr>\n",
       "      <th>2017-10-30</th>\n",
       "      <td>869.00000</td>\n",
       "    </tr>\n",
       "    <tr>\n",
       "      <th>2017-10-31</th>\n",
       "      <td>1338.50000</td>\n",
       "    </tr>\n",
       "  </tbody>\n",
       "</table>\n",
       "<p>214 rows × 1 columns</p>\n",
       "</div>"
      ],
      "text/plain": [
       "                 Sales\n",
       "Time                  \n",
       "2017-04-01  2348.00000\n",
       "2017-04-02     0.00000\n",
       "2017-04-03  3090.00000\n",
       "2017-04-04     0.00000\n",
       "2017-04-05  3840.00000\n",
       "...                ...\n",
       "2017-10-27   761.00002\n",
       "2017-10-28  1611.00000\n",
       "2017-10-29   732.00000\n",
       "2017-10-30   869.00000\n",
       "2017-10-31  1338.50000\n",
       "\n",
       "[214 rows x 1 columns]"
      ]
     },
     "execution_count": 162,
     "metadata": {},
     "output_type": "execute_result"
    }
   ],
   "source": [
    "daily"
   ]
  },
  {
   "cell_type": "code",
   "execution_count": 174,
   "id": "eedb5250",
   "metadata": {},
   "outputs": [],
   "source": [
    "X = X.reshape((X.shape[0], X.shape[1], 1))\n"
   ]
  },
  {
   "cell_type": "code",
   "execution_count": 175,
   "id": "08f0579d",
   "metadata": {},
   "outputs": [],
   "source": [
    "from sklearn.model_selection import train_test_split"
   ]
  },
  {
   "cell_type": "code",
   "execution_count": 197,
   "id": "e2a868e2",
   "metadata": {},
   "outputs": [],
   "source": [
    "X_train, X_test, y_train, y_test = train_test_split(X, Y, test_size=0.3, random_state=42)"
   ]
  },
  {
   "cell_type": "code",
   "execution_count": 177,
   "id": "54dee5e6",
   "metadata": {},
   "outputs": [
    {
     "data": {
      "text/plain": [
       "array([[[1254.     ],\n",
       "        [1793.     ],\n",
       "        [ 776.     ],\n",
       "        [1133.     ]],\n",
       "\n",
       "       [[1159.     ],\n",
       "        [1236.     ],\n",
       "        [ 963.     ],\n",
       "        [1629.     ]],\n",
       "\n",
       "       [[ 701.     ],\n",
       "        [1026.     ],\n",
       "        [ 593.     ],\n",
       "        [1160.     ]],\n",
       "\n",
       "       [[1160.     ],\n",
       "        [ 761.00002],\n",
       "        [1611.     ],\n",
       "        [ 732.     ]],\n",
       "\n",
       "       [[1724.     ],\n",
       "        [1749.     ],\n",
       "        [1373.     ],\n",
       "        [1601.     ]],\n",
       "\n",
       "       [[3027.     ],\n",
       "        [   0.     ],\n",
       "        [1266.     ],\n",
       "        [   0.     ]],\n",
       "\n",
       "       [[1831.     ],\n",
       "        [   0.     ],\n",
       "        [1531.     ],\n",
       "        [1247.     ]],\n",
       "\n",
       "       [[1998.     ],\n",
       "        [   0.     ],\n",
       "        [1885.     ],\n",
       "        [1724.     ]],\n",
       "\n",
       "       [[1860.     ],\n",
       "        [   0.     ],\n",
       "        [1234.     ],\n",
       "        [1217.99998]],\n",
       "\n",
       "       [[1569.     ],\n",
       "        [1746.     ],\n",
       "        [1590.     ],\n",
       "        [2627.     ]],\n",
       "\n",
       "       [[1253.     ],\n",
       "        [ 915.     ],\n",
       "        [1634.     ],\n",
       "        [3478.     ]],\n",
       "\n",
       "       [[1306.     ],\n",
       "        [   0.     ],\n",
       "        [1063.     ],\n",
       "        [1852.     ]],\n",
       "\n",
       "       [[ 984.     ],\n",
       "        [1217.     ],\n",
       "        [1292.     ],\n",
       "        [1408.99998]],\n",
       "\n",
       "       [[2627.     ],\n",
       "        [2029.     ],\n",
       "        [ 984.     ],\n",
       "        [1469.     ]],\n",
       "\n",
       "       [[2563.     ],\n",
       "        [2201.     ],\n",
       "        [1366.     ],\n",
       "        [1448.     ]],\n",
       "\n",
       "       [[2251.     ],\n",
       "        [1294.     ],\n",
       "        [   0.     ],\n",
       "        [1159.     ]],\n",
       "\n",
       "       [[2308.     ],\n",
       "        [1860.     ],\n",
       "        [   0.     ],\n",
       "        [1234.     ]],\n",
       "\n",
       "       [[ 796.     ],\n",
       "        [ 863.     ],\n",
       "        [ 701.     ],\n",
       "        [1026.     ]],\n",
       "\n",
       "       [[   0.     ],\n",
       "        [1159.     ],\n",
       "        [1236.     ],\n",
       "        [ 963.     ]],\n",
       "\n",
       "       [[1783.     ],\n",
       "        [1820.     ],\n",
       "        [1852.     ],\n",
       "        [1475.     ]],\n",
       "\n",
       "       [[2334.99998],\n",
       "        [1810.     ],\n",
       "        [1998.     ],\n",
       "        [   0.     ]],\n",
       "\n",
       "       [[2657.     ],\n",
       "        [1050.     ],\n",
       "        [1226.     ],\n",
       "        [1306.     ]],\n",
       "\n",
       "       [[1755.     ],\n",
       "        [2112.     ],\n",
       "        [1836.     ],\n",
       "        [2156.     ]],\n",
       "\n",
       "       [[2193.     ],\n",
       "        [1656.     ],\n",
       "        [1783.     ],\n",
       "        [1820.     ]],\n",
       "\n",
       "       [[3090.     ],\n",
       "        [   0.     ],\n",
       "        [3840.     ],\n",
       "        [3006.     ]],\n",
       "\n",
       "       [[1294.     ],\n",
       "        [   0.     ],\n",
       "        [1159.     ],\n",
       "        [1236.     ]],\n",
       "\n",
       "       [[1317.     ],\n",
       "        [1539.     ],\n",
       "        [1491.     ],\n",
       "        [1393.     ]],\n",
       "\n",
       "       [[1475.     ],\n",
       "        [1254.     ],\n",
       "        [1793.     ],\n",
       "        [ 776.     ]],\n",
       "\n",
       "       [[1785.     ],\n",
       "        [   0.     ],\n",
       "        [1872.     ],\n",
       "        [1569.     ]],\n",
       "\n",
       "       [[2896.     ],\n",
       "        [1218.     ],\n",
       "        [   0.     ],\n",
       "        [1092.     ]],\n",
       "\n",
       "       [[   0.     ],\n",
       "        [2355.     ],\n",
       "        [3102.9999 ],\n",
       "        [2245.00002]],\n",
       "\n",
       "       [[1050.     ],\n",
       "        [1226.     ],\n",
       "        [1306.     ],\n",
       "        [   0.     ]],\n",
       "\n",
       "       [[   0.     ],\n",
       "        [1531.     ],\n",
       "        [1247.     ],\n",
       "        [2147.     ]],\n",
       "\n",
       "       [[2029.     ],\n",
       "        [ 984.     ],\n",
       "        [1469.     ],\n",
       "        [2193.     ]],\n",
       "\n",
       "       [[1608.99998],\n",
       "        [1274.     ],\n",
       "        [1177.     ],\n",
       "        [   0.     ]],\n",
       "\n",
       "       [[   0.     ],\n",
       "        [1707.     ],\n",
       "        [1121.     ],\n",
       "        [2202.     ]],\n",
       "\n",
       "       [[1408.     ],\n",
       "        [1471.     ],\n",
       "        [2657.     ],\n",
       "        [1050.     ]],\n",
       "\n",
       "       [[1262.     ],\n",
       "        [1785.     ],\n",
       "        [   0.     ],\n",
       "        [1872.     ]],\n",
       "\n",
       "       [[1373.     ],\n",
       "        [1601.     ],\n",
       "        [1831.     ],\n",
       "        [   0.     ]],\n",
       "\n",
       "       [[2310.     ],\n",
       "        [3027.     ],\n",
       "        [   0.     ],\n",
       "        [1266.     ]],\n",
       "\n",
       "       [[ 863.     ],\n",
       "        [ 701.     ],\n",
       "        [1026.     ],\n",
       "        [ 593.     ]],\n",
       "\n",
       "       [[1306.     ],\n",
       "        [1265.     ],\n",
       "        [ 563.     ],\n",
       "        [2563.     ]],\n",
       "\n",
       "       [[3046.     ],\n",
       "        [2143.     ],\n",
       "        [   0.     ],\n",
       "        [2497.     ]],\n",
       "\n",
       "       [[1810.     ],\n",
       "        [1998.     ],\n",
       "        [   0.     ],\n",
       "        [1885.     ]],\n",
       "\n",
       "       [[2201.     ],\n",
       "        [1366.     ],\n",
       "        [1448.     ],\n",
       "        [1410.     ]],\n",
       "\n",
       "       [[ 741.     ],\n",
       "        [ 624.     ],\n",
       "        [ 796.     ],\n",
       "        [ 863.     ]],\n",
       "\n",
       "       [[   0.     ],\n",
       "        [1063.     ],\n",
       "        [1852.     ],\n",
       "        [1129.     ]],\n",
       "\n",
       "       [[3840.     ],\n",
       "        [3006.     ],\n",
       "        [3046.     ],\n",
       "        [2143.     ]],\n",
       "\n",
       "       [[1749.     ],\n",
       "        [1373.     ],\n",
       "        [1601.     ],\n",
       "        [1831.     ]],\n",
       "\n",
       "       [[   0.     ],\n",
       "        [1872.     ],\n",
       "        [1569.     ],\n",
       "        [1746.     ]],\n",
       "\n",
       "       [[1204.     ],\n",
       "        [1745.     ],\n",
       "        [1285.     ],\n",
       "        [ 626.     ]],\n",
       "\n",
       "       [[ 984.     ],\n",
       "        [1469.     ],\n",
       "        [2193.     ],\n",
       "        [1656.     ]],\n",
       "\n",
       "       [[1215.     ],\n",
       "        [1396.     ],\n",
       "        [1367.     ],\n",
       "        [ 191.     ]],\n",
       "\n",
       "       [[1872.     ],\n",
       "        [1569.     ],\n",
       "        [1746.     ],\n",
       "        [1590.     ]],\n",
       "\n",
       "       [[2440.     ],\n",
       "        [2310.     ],\n",
       "        [3027.     ],\n",
       "        [   0.     ]],\n",
       "\n",
       "       [[1274.     ],\n",
       "        [1177.     ],\n",
       "        [   0.     ],\n",
       "        [1256.99998]],\n",
       "\n",
       "       [[   0.     ],\n",
       "        [1002.     ],\n",
       "        [1257.     ],\n",
       "        [1144.     ]],\n",
       "\n",
       "       [[1745.     ],\n",
       "        [1285.     ],\n",
       "        [ 626.     ],\n",
       "        [1497.     ]],\n",
       "\n",
       "       [[ 820.     ],\n",
       "        [1843.     ],\n",
       "        [1755.     ],\n",
       "        [2112.     ]],\n",
       "\n",
       "       [[2348.     ],\n",
       "        [   0.     ],\n",
       "        [3090.     ],\n",
       "        [   0.     ]],\n",
       "\n",
       "       [[1091.00002],\n",
       "        [1002.     ],\n",
       "        [1059.     ],\n",
       "        [1686.     ]],\n",
       "\n",
       "       [[1573.     ],\n",
       "        [3819.     ],\n",
       "        [1447.     ],\n",
       "        [1528.     ]],\n",
       "\n",
       "       [[2398.     ],\n",
       "        [   0.     ],\n",
       "        [1267.     ],\n",
       "        [1535.     ]],\n",
       "\n",
       "       [[1489.     ],\n",
       "        [1371.     ],\n",
       "        [1440.     ],\n",
       "        [1371.     ]],\n",
       "\n",
       "       [[   0.     ],\n",
       "        [1256.99998],\n",
       "        [1783.     ],\n",
       "        [1822.     ]],\n",
       "\n",
       "       [[1234.     ],\n",
       "        [1217.99998],\n",
       "        [1317.     ],\n",
       "        [1539.     ]],\n",
       "\n",
       "       [[1314.     ],\n",
       "        [1408.     ],\n",
       "        [1471.     ],\n",
       "        [2657.     ]],\n",
       "\n",
       "       [[2194.     ],\n",
       "        [2308.     ],\n",
       "        [1860.     ],\n",
       "        [   0.     ]],\n",
       "\n",
       "       [[1656.     ],\n",
       "        [1783.     ],\n",
       "        [1820.     ],\n",
       "        [1852.     ]],\n",
       "\n",
       "       [[1707.     ],\n",
       "        [1121.     ],\n",
       "        [2202.     ],\n",
       "        [2334.99998]],\n",
       "\n",
       "       [[1934.     ],\n",
       "        [1701.00002],\n",
       "        [2015.     ],\n",
       "        [2496.00002]],\n",
       "\n",
       "       [[1285.     ],\n",
       "        [ 626.     ],\n",
       "        [1497.     ],\n",
       "        [2246.     ]],\n",
       "\n",
       "       [[ 963.     ],\n",
       "        [1629.     ],\n",
       "        [1804.     ],\n",
       "        [1548.     ]],\n",
       "\n",
       "       [[2147.     ],\n",
       "        [2194.     ],\n",
       "        [2308.     ],\n",
       "        [1860.     ]],\n",
       "\n",
       "       [[1843.     ],\n",
       "        [1755.     ],\n",
       "        [2112.     ],\n",
       "        [1836.     ]],\n",
       "\n",
       "       [[1539.     ],\n",
       "        [1491.     ],\n",
       "        [1393.     ],\n",
       "        [   0.     ]],\n",
       "\n",
       "       [[1211.     ],\n",
       "        [1245.     ],\n",
       "        [1592.     ],\n",
       "        [1460.     ]],\n",
       "\n",
       "       [[2496.00002],\n",
       "        [ 815.     ],\n",
       "        [1489.     ],\n",
       "        [1371.     ]],\n",
       "\n",
       "       [[   0.     ],\n",
       "        [1234.     ],\n",
       "        [1217.99998],\n",
       "        [1317.     ]],\n",
       "\n",
       "       [[1063.     ],\n",
       "        [1852.     ],\n",
       "        [1129.     ],\n",
       "        [   0.     ]],\n",
       "\n",
       "       [[   0.     ],\n",
       "        [3840.     ],\n",
       "        [3006.     ],\n",
       "        [3046.     ]],\n",
       "\n",
       "       [[1243.     ],\n",
       "        [ 939.     ],\n",
       "        [1163.     ],\n",
       "        [1210.     ]],\n",
       "\n",
       "       [[1292.     ],\n",
       "        [1408.99998],\n",
       "        [1047.     ],\n",
       "        [1242.     ]],\n",
       "\n",
       "       [[1638.     ],\n",
       "        [ 828.     ],\n",
       "        [1191.     ],\n",
       "        [1549.     ]],\n",
       "\n",
       "       [[1002.     ],\n",
       "        [1059.     ],\n",
       "        [1686.     ],\n",
       "        [1559.     ]],\n",
       "\n",
       "       [[1371.     ],\n",
       "        [1440.     ],\n",
       "        [1371.     ],\n",
       "        [1306.     ]],\n",
       "\n",
       "       [[1396.     ],\n",
       "        [1367.     ],\n",
       "        [ 191.     ],\n",
       "        [ 411.     ]],\n",
       "\n",
       "       [[1393.     ],\n",
       "        [   0.     ],\n",
       "        [ 984.     ],\n",
       "        [1217.     ]],\n",
       "\n",
       "       [[1236.     ],\n",
       "        [ 963.     ],\n",
       "        [1629.     ],\n",
       "        [1804.     ]],\n",
       "\n",
       "       [[1601.     ],\n",
       "        [1831.     ],\n",
       "        [   0.     ],\n",
       "        [1531.     ]],\n",
       "\n",
       "       [[2143.     ],\n",
       "        [   0.     ],\n",
       "        [2497.     ],\n",
       "        [2440.     ]],\n",
       "\n",
       "       [[1413.     ],\n",
       "        [1262.     ],\n",
       "        [1785.     ],\n",
       "        [   0.     ]],\n",
       "\n",
       "       [[1218.     ],\n",
       "        [   0.     ],\n",
       "        [1092.     ],\n",
       "        [1211.     ]],\n",
       "\n",
       "       [[1804.     ],\n",
       "        [1548.     ],\n",
       "        [   0.     ],\n",
       "        [2355.     ]],\n",
       "\n",
       "       [[1447.     ],\n",
       "        [1528.     ],\n",
       "        [1522.     ],\n",
       "        [1091.00002]],\n",
       "\n",
       "       [[1059.     ],\n",
       "        [1686.     ],\n",
       "        [1559.     ],\n",
       "        [1215.     ]],\n",
       "\n",
       "       [[1227.     ],\n",
       "        [2896.     ],\n",
       "        [1218.     ],\n",
       "        [   0.     ]],\n",
       "\n",
       "       [[   0.     ],\n",
       "        [2497.     ],\n",
       "        [2440.     ],\n",
       "        [2310.     ]],\n",
       "\n",
       "       [[   0.     ],\n",
       "        [1266.     ],\n",
       "        [   0.     ],\n",
       "        [1290.     ]],\n",
       "\n",
       "       [[1145.     ],\n",
       "        [ 930.     ],\n",
       "        [1608.99998],\n",
       "        [1274.     ]],\n",
       "\n",
       "       [[2156.     ],\n",
       "        [1109.     ],\n",
       "        [1352.     ],\n",
       "        [1573.     ]],\n",
       "\n",
       "       [[1133.     ],\n",
       "        [1255.     ],\n",
       "        [1638.     ],\n",
       "        [ 828.     ]],\n",
       "\n",
       "       [[2433.     ],\n",
       "        [3127.     ],\n",
       "        [2836.     ],\n",
       "        [2853.     ]],\n",
       "\n",
       "       [[1371.     ],\n",
       "        [1306.     ],\n",
       "        [1265.     ],\n",
       "        [ 563.     ]],\n",
       "\n",
       "       [[1267.     ],\n",
       "        [1535.     ],\n",
       "        [1627.     ],\n",
       "        [1617.00002]],\n",
       "\n",
       "       [[3819.     ],\n",
       "        [1447.     ],\n",
       "        [1528.     ],\n",
       "        [1522.     ]],\n",
       "\n",
       "       [[ 828.     ],\n",
       "        [1191.     ],\n",
       "        [1549.     ],\n",
       "        [1314.     ]],\n",
       "\n",
       "       [[1491.     ],\n",
       "        [ 820.     ],\n",
       "        [1843.     ],\n",
       "        [1755.     ]],\n",
       "\n",
       "       [[1559.     ],\n",
       "        [1215.     ],\n",
       "        [1396.     ],\n",
       "        [1367.     ]],\n",
       "\n",
       "       [[1177.     ],\n",
       "        [   0.     ],\n",
       "        [1256.99998],\n",
       "        [1783.     ]],\n",
       "\n",
       "       [[1408.99998],\n",
       "        [1047.     ],\n",
       "        [1242.     ],\n",
       "        [   0.     ]],\n",
       "\n",
       "       [[1163.     ],\n",
       "        [1210.     ],\n",
       "        [1462.     ],\n",
       "        [1413.     ]],\n",
       "\n",
       "       [[   0.     ],\n",
       "        [ 984.     ],\n",
       "        [1217.     ],\n",
       "        [1292.     ]],\n",
       "\n",
       "       [[1410.     ],\n",
       "        [1491.     ],\n",
       "        [ 820.     ],\n",
       "        [1843.     ]],\n",
       "\n",
       "       [[1026.     ],\n",
       "        [ 593.     ],\n",
       "        [1160.     ],\n",
       "        [ 761.00002]],\n",
       "\n",
       "       [[ 563.     ],\n",
       "        [2563.     ],\n",
       "        [2201.     ],\n",
       "        [1366.     ]],\n",
       "\n",
       "       [[1242.99998],\n",
       "        [1145.     ],\n",
       "        [ 930.     ],\n",
       "        [1608.99998]],\n",
       "\n",
       "       [[1491.     ],\n",
       "        [1393.     ],\n",
       "        [   0.     ],\n",
       "        [ 984.     ]],\n",
       "\n",
       "       [[2245.00002],\n",
       "        [1227.     ],\n",
       "        [2896.     ],\n",
       "        [1218.     ]],\n",
       "\n",
       "       [[1477.99999],\n",
       "        [   0.     ],\n",
       "        [1707.     ],\n",
       "        [1121.     ]],\n",
       "\n",
       "       [[   0.     ],\n",
       "        [1242.99998],\n",
       "        [1145.     ],\n",
       "        [ 930.     ]],\n",
       "\n",
       "       [[2015.     ],\n",
       "        [2496.00002],\n",
       "        [ 815.     ],\n",
       "        [1489.     ]],\n",
       "\n",
       "       [[ 624.     ],\n",
       "        [ 796.     ],\n",
       "        [ 863.     ],\n",
       "        [ 701.     ]],\n",
       "\n",
       "       [[1793.     ],\n",
       "        [ 776.     ],\n",
       "        [1133.     ],\n",
       "        [1255.     ]],\n",
       "\n",
       "       [[1531.     ],\n",
       "        [1247.     ],\n",
       "        [2147.     ],\n",
       "        [2194.     ]],\n",
       "\n",
       "       [[2246.     ],\n",
       "        [1934.     ],\n",
       "        [1701.00002],\n",
       "        [2015.     ]],\n",
       "\n",
       "       [[ 411.     ],\n",
       "        [ 516.     ],\n",
       "        [ 617.     ],\n",
       "        [ 741.     ]],\n",
       "\n",
       "       [[   0.     ],\n",
       "        [3090.     ],\n",
       "        [   0.     ],\n",
       "        [3840.     ]],\n",
       "\n",
       "       [[1217.     ],\n",
       "        [1292.     ],\n",
       "        [1408.99998],\n",
       "        [1047.     ]],\n",
       "\n",
       "       [[1002.     ],\n",
       "        [1257.     ],\n",
       "        [1144.     ],\n",
       "        [1204.     ]],\n",
       "\n",
       "       [[ 776.     ],\n",
       "        [1133.     ],\n",
       "        [1255.     ],\n",
       "        [1638.     ]],\n",
       "\n",
       "       [[1144.     ],\n",
       "        [1204.     ],\n",
       "        [1745.     ],\n",
       "        [1285.     ]],\n",
       "\n",
       "       [[1510.     ],\n",
       "        [1771.     ],\n",
       "        [1243.     ],\n",
       "        [ 939.     ]],\n",
       "\n",
       "       [[ 915.     ],\n",
       "        [1634.     ],\n",
       "        [3478.     ],\n",
       "        [2235.     ]],\n",
       "\n",
       "       [[1746.     ],\n",
       "        [1590.     ],\n",
       "        [2627.     ],\n",
       "        [2029.     ]],\n",
       "\n",
       "       [[3102.9999 ],\n",
       "        [2245.00002],\n",
       "        [1227.     ],\n",
       "        [2896.     ]],\n",
       "\n",
       "       [[1627.     ],\n",
       "        [1617.00002],\n",
       "        [2251.     ],\n",
       "        [1294.     ]],\n",
       "\n",
       "       [[1469.     ],\n",
       "        [2193.     ],\n",
       "        [1656.     ],\n",
       "        [1783.     ]],\n",
       "\n",
       "       [[ 761.00002],\n",
       "        [1611.     ],\n",
       "        [ 732.     ],\n",
       "        [ 869.     ]],\n",
       "\n",
       "       [[2853.     ],\n",
       "        [1477.99999],\n",
       "        [   0.     ],\n",
       "        [1707.     ]],\n",
       "\n",
       "       [[1522.     ],\n",
       "        [1091.00002],\n",
       "        [1002.     ],\n",
       "        [1059.     ]],\n",
       "\n",
       "       [[   0.     ],\n",
       "        [1267.     ],\n",
       "        [1535.     ],\n",
       "        [1627.     ]],\n",
       "\n",
       "       [[ 939.     ],\n",
       "        [1163.     ],\n",
       "        [1210.     ],\n",
       "        [1462.     ]],\n",
       "\n",
       "       [[1266.     ],\n",
       "        [   0.     ],\n",
       "        [1290.     ],\n",
       "        [2433.     ]],\n",
       "\n",
       "       [[   0.     ],\n",
       "        [1092.     ],\n",
       "        [1211.     ],\n",
       "        [1245.     ]],\n",
       "\n",
       "       [[2112.     ],\n",
       "        [1836.     ],\n",
       "        [2156.     ],\n",
       "        [1109.     ]],\n",
       "\n",
       "       [[2235.     ],\n",
       "        [1510.     ],\n",
       "        [1771.     ],\n",
       "        [1243.     ]]])"
      ]
     },
     "execution_count": 177,
     "metadata": {},
     "output_type": "execute_result"
    }
   ],
   "source": [
    "X_train"
   ]
  },
  {
   "cell_type": "code",
   "execution_count": 179,
   "id": "e368b802",
   "metadata": {},
   "outputs": [],
   "source": [
    "n_steps = 4\n",
    "n_features = 1\n",
    "from keras.models import Sequential\n",
    "from keras.layers import LSTM\n",
    "from keras.layers import Dense\n",
    "\n",
    "model = Sequential()\n",
    "model.add(LSTM(50, activation='relu', input_shape=(n_steps, n_features)))\n",
    "model.add(Dense(1))\n",
    "model.compile(optimizer='adam', loss='mse')"
   ]
  },
  {
   "cell_type": "code",
   "execution_count": 180,
   "id": "a68a6b2d",
   "metadata": {},
   "outputs": [
    {
     "name": "stdout",
     "output_type": "stream",
     "text": [
      "Model: \"sequential_1\"\n",
      "_________________________________________________________________\n",
      "Layer (type)                 Output Shape              Param #   \n",
      "=================================================================\n",
      "lstm (LSTM)                  (None, 50)                10400     \n",
      "_________________________________________________________________\n",
      "dense (Dense)                (None, 1)                 51        \n",
      "=================================================================\n",
      "Total params: 10,451\n",
      "Trainable params: 10,451\n",
      "Non-trainable params: 0\n",
      "_________________________________________________________________\n"
     ]
    }
   ],
   "source": [
    "model.summary()\n"
   ]
  },
  {
   "cell_type": "code",
   "execution_count": 181,
   "id": "aff66b71",
   "metadata": {},
   "outputs": [
    {
     "data": {
      "text/plain": [
       "<keras.callbacks.History at 0x7fe4bd1a5fd0>"
      ]
     },
     "execution_count": 181,
     "metadata": {},
     "output_type": "execute_result"
    }
   ],
   "source": [
    "model.fit(X_train, y_train, epochs=5, verbose=0)\n"
   ]
  },
  {
   "cell_type": "code",
   "execution_count": 182,
   "id": "ed07cb48",
   "metadata": {},
   "outputs": [],
   "source": [
    "ypred = model.predict(X_test, verbose=0)\n"
   ]
  },
  {
   "cell_type": "code",
   "execution_count": 193,
   "id": "10dab8c5",
   "metadata": {},
   "outputs": [
    {
     "data": {
      "text/plain": [
       "array([1601.     ,  820.     , 2245.00002,  796.     ,    0.     ,\n",
       "       1701.00002, 1393.     , 1447.     ,    0.     ,  617.     ,\n",
       "       2657.     , 1059.     ,  732.     ,  776.     , 2836.     ,\n",
       "       1294.     ,  563.     ,    0.     , 1366.     , 1460.     ,\n",
       "       1159.     , 1145.     , 1144.     ,    0.     , 1785.     ,\n",
       "       1852.     ,    0.     , 1793.     , 2853.     , 1843.     ,\n",
       "       1367.     , 1535.     , 1243.     ,    0.     , 1210.     ,\n",
       "       1549.     , 1573.     ,  915.     , 2355.     , 1489.     ,\n",
       "        741.     , 1371.     , 1285.     , 1634.     ,  863.     ,\n",
       "       1267.     , 2015.     , 2896.     , 1771.     , 1860.     ,\n",
       "       1998.     , 1528.     , 1469.     , 1373.     , 1707.     ,\n",
       "       1471.     , 1306.     , 2398.     , 2251.     , 2497.     ,\n",
       "       1257.     ,  930.     , 3478.     ])"
      ]
     },
     "execution_count": 193,
     "metadata": {},
     "output_type": "execute_result"
    }
   ],
   "source": [
    "y_test"
   ]
  },
  {
   "cell_type": "code",
   "execution_count": 189,
   "id": "98f02492",
   "metadata": {},
   "outputs": [],
   "source": [
    "ypred = [y[0] for y in ypred]"
   ]
  },
  {
   "cell_type": "code",
   "execution_count": 190,
   "id": "47c51873",
   "metadata": {},
   "outputs": [
    {
     "data": {
      "text/plain": [
       "[189.43639,\n",
       " 131.75688,\n",
       " 307.58734,\n",
       " 61.29181,\n",
       " 171.2935,\n",
       " 112.928505,\n",
       " 130.89804,\n",
       " 324.8456,\n",
       " 234.01854,\n",
       " 175.13768,\n",
       " 127.2138,\n",
       " 149.63637,\n",
       " 205.80313,\n",
       " 138.5243,\n",
       " 304.62518,\n",
       " 257.84323,\n",
       " 127.44425,\n",
       " 450.1478,\n",
       " 105.23852,\n",
       " 126.25508,\n",
       " 97.516495,\n",
       " 196.0252,\n",
       " 168.77174,\n",
       " 139.47336,\n",
       " 156.1194,\n",
       " 205.24446,\n",
       " 188.92943,\n",
       " 184.95561,\n",
       " 239.162,\n",
       " 174.49068,\n",
       " 128.89525,\n",
       " 313.71942,\n",
       " 640.8687,\n",
       " 221.8302,\n",
       " 311.03473,\n",
       " 203.36098,\n",
       " 261.82297,\n",
       " 168.62682,\n",
       " 282.69574,\n",
       " 249.69006,\n",
       " 34.362938,\n",
       " 130.98375,\n",
       " 250.36742,\n",
       " 155.00545,\n",
       " 66.569305,\n",
       " 610.0705,\n",
       " 248.28209,\n",
       " 399.21063,\n",
       " 331.73862,\n",
       " 200.62749,\n",
       " 223.0377,\n",
       " 155.94014,\n",
       " 339.11618,\n",
       " 87.232254,\n",
       " 161.42645,\n",
       " 130.6345,\n",
       " 290.66235,\n",
       " 189.55168,\n",
       " 377.11145,\n",
       " 381.98352,\n",
       " 203.26671,\n",
       " 172.26784,\n",
       " 218.01067]"
      ]
     },
     "execution_count": 190,
     "metadata": {},
     "output_type": "execute_result"
    }
   ],
   "source": [
    "ypred"
   ]
  },
  {
   "cell_type": "code",
   "execution_count": 191,
   "id": "fa7cb811",
   "metadata": {},
   "outputs": [
    {
     "data": {
      "text/plain": [
       "-2.5534470970665453"
      ]
     },
     "execution_count": 191,
     "metadata": {},
     "output_type": "execute_result"
    }
   ],
   "source": [
    "from sklearn.metrics import r2_score\n",
    "\n",
    "r2_score(y_test, ypred)"
   ]
  },
  {
   "cell_type": "code",
   "execution_count": 192,
   "id": "9c30eaf9",
   "metadata": {},
   "outputs": [
    {
     "data": {
      "text/plain": [
       "1987643.4198371805"
      ]
     },
     "execution_count": 192,
     "metadata": {},
     "output_type": "execute_result"
    }
   ],
   "source": [
    "from sklearn.metrics import mean_squared_error\n",
    "mean_squared_error(y_test, ypred)"
   ]
  },
  {
   "cell_type": "code",
   "execution_count": 195,
   "id": "17769e3c",
   "metadata": {},
   "outputs": [],
   "source": [
    "# try random forest\n"
   ]
  },
  {
   "cell_type": "code",
   "execution_count": 198,
   "id": "d7573e1d",
   "metadata": {},
   "outputs": [
    {
     "data": {
      "text/plain": [
       "array([[1254.     , 1793.     ,  776.     , 1133.     ],\n",
       "       [1159.     , 1236.     ,  963.     , 1629.     ],\n",
       "       [ 701.     , 1026.     ,  593.     , 1160.     ],\n",
       "       [1160.     ,  761.00002, 1611.     ,  732.     ],\n",
       "       [1724.     , 1749.     , 1373.     , 1601.     ],\n",
       "       [3027.     ,    0.     , 1266.     ,    0.     ],\n",
       "       [1831.     ,    0.     , 1531.     , 1247.     ],\n",
       "       [1998.     ,    0.     , 1885.     , 1724.     ],\n",
       "       [1860.     ,    0.     , 1234.     , 1217.99998],\n",
       "       [1569.     , 1746.     , 1590.     , 2627.     ],\n",
       "       [1253.     ,  915.     , 1634.     , 3478.     ],\n",
       "       [1306.     ,    0.     , 1063.     , 1852.     ],\n",
       "       [ 984.     , 1217.     , 1292.     , 1408.99998],\n",
       "       [2627.     , 2029.     ,  984.     , 1469.     ],\n",
       "       [2563.     , 2201.     , 1366.     , 1448.     ],\n",
       "       [2251.     , 1294.     ,    0.     , 1159.     ],\n",
       "       [2308.     , 1860.     ,    0.     , 1234.     ],\n",
       "       [ 796.     ,  863.     ,  701.     , 1026.     ],\n",
       "       [   0.     , 1159.     , 1236.     ,  963.     ],\n",
       "       [1783.     , 1820.     , 1852.     , 1475.     ],\n",
       "       [2334.99998, 1810.     , 1998.     ,    0.     ],\n",
       "       [2657.     , 1050.     , 1226.     , 1306.     ],\n",
       "       [1755.     , 2112.     , 1836.     , 2156.     ],\n",
       "       [2193.     , 1656.     , 1783.     , 1820.     ],\n",
       "       [3090.     ,    0.     , 3840.     , 3006.     ],\n",
       "       [1294.     ,    0.     , 1159.     , 1236.     ],\n",
       "       [1317.     , 1539.     , 1491.     , 1393.     ],\n",
       "       [1475.     , 1254.     , 1793.     ,  776.     ],\n",
       "       [1785.     ,    0.     , 1872.     , 1569.     ],\n",
       "       [2896.     , 1218.     ,    0.     , 1092.     ],\n",
       "       [   0.     , 2355.     , 3102.9999 , 2245.00002],\n",
       "       [1050.     , 1226.     , 1306.     ,    0.     ],\n",
       "       [   0.     , 1531.     , 1247.     , 2147.     ],\n",
       "       [2029.     ,  984.     , 1469.     , 2193.     ],\n",
       "       [1608.99998, 1274.     , 1177.     ,    0.     ],\n",
       "       [   0.     , 1707.     , 1121.     , 2202.     ],\n",
       "       [1408.     , 1471.     , 2657.     , 1050.     ],\n",
       "       [1262.     , 1785.     ,    0.     , 1872.     ],\n",
       "       [1373.     , 1601.     , 1831.     ,    0.     ],\n",
       "       [2310.     , 3027.     ,    0.     , 1266.     ],\n",
       "       [ 863.     ,  701.     , 1026.     ,  593.     ],\n",
       "       [1306.     , 1265.     ,  563.     , 2563.     ],\n",
       "       [3046.     , 2143.     ,    0.     , 2497.     ],\n",
       "       [1810.     , 1998.     ,    0.     , 1885.     ],\n",
       "       [2201.     , 1366.     , 1448.     , 1410.     ],\n",
       "       [ 741.     ,  624.     ,  796.     ,  863.     ],\n",
       "       [   0.     , 1063.     , 1852.     , 1129.     ],\n",
       "       [3840.     , 3006.     , 3046.     , 2143.     ],\n",
       "       [1749.     , 1373.     , 1601.     , 1831.     ],\n",
       "       [   0.     , 1872.     , 1569.     , 1746.     ],\n",
       "       [1204.     , 1745.     , 1285.     ,  626.     ],\n",
       "       [ 984.     , 1469.     , 2193.     , 1656.     ],\n",
       "       [1215.     , 1396.     , 1367.     ,  191.     ],\n",
       "       [1872.     , 1569.     , 1746.     , 1590.     ],\n",
       "       [2440.     , 2310.     , 3027.     ,    0.     ],\n",
       "       [1274.     , 1177.     ,    0.     , 1256.99998],\n",
       "       [   0.     , 1002.     , 1257.     , 1144.     ],\n",
       "       [1745.     , 1285.     ,  626.     , 1497.     ],\n",
       "       [ 820.     , 1843.     , 1755.     , 2112.     ],\n",
       "       [2348.     ,    0.     , 3090.     ,    0.     ],\n",
       "       [1091.00002, 1002.     , 1059.     , 1686.     ],\n",
       "       [1573.     , 3819.     , 1447.     , 1528.     ],\n",
       "       [2398.     ,    0.     , 1267.     , 1535.     ],\n",
       "       [1489.     , 1371.     , 1440.     , 1371.     ],\n",
       "       [   0.     , 1256.99998, 1783.     , 1822.     ],\n",
       "       [1234.     , 1217.99998, 1317.     , 1539.     ],\n",
       "       [1314.     , 1408.     , 1471.     , 2657.     ],\n",
       "       [2194.     , 2308.     , 1860.     ,    0.     ],\n",
       "       [1656.     , 1783.     , 1820.     , 1852.     ],\n",
       "       [1707.     , 1121.     , 2202.     , 2334.99998],\n",
       "       [1934.     , 1701.00002, 2015.     , 2496.00002],\n",
       "       [1285.     ,  626.     , 1497.     , 2246.     ],\n",
       "       [ 963.     , 1629.     , 1804.     , 1548.     ],\n",
       "       [2147.     , 2194.     , 2308.     , 1860.     ],\n",
       "       [1843.     , 1755.     , 2112.     , 1836.     ],\n",
       "       [1539.     , 1491.     , 1393.     ,    0.     ],\n",
       "       [1211.     , 1245.     , 1592.     , 1460.     ],\n",
       "       [2496.00002,  815.     , 1489.     , 1371.     ],\n",
       "       [   0.     , 1234.     , 1217.99998, 1317.     ],\n",
       "       [1063.     , 1852.     , 1129.     ,    0.     ],\n",
       "       [   0.     , 3840.     , 3006.     , 3046.     ],\n",
       "       [1243.     ,  939.     , 1163.     , 1210.     ],\n",
       "       [1292.     , 1408.99998, 1047.     , 1242.     ],\n",
       "       [1638.     ,  828.     , 1191.     , 1549.     ],\n",
       "       [1002.     , 1059.     , 1686.     , 1559.     ],\n",
       "       [1371.     , 1440.     , 1371.     , 1306.     ],\n",
       "       [1396.     , 1367.     ,  191.     ,  411.     ],\n",
       "       [1393.     ,    0.     ,  984.     , 1217.     ],\n",
       "       [1236.     ,  963.     , 1629.     , 1804.     ],\n",
       "       [1601.     , 1831.     ,    0.     , 1531.     ],\n",
       "       [2143.     ,    0.     , 2497.     , 2440.     ],\n",
       "       [1413.     , 1262.     , 1785.     ,    0.     ],\n",
       "       [1218.     ,    0.     , 1092.     , 1211.     ],\n",
       "       [1804.     , 1548.     ,    0.     , 2355.     ],\n",
       "       [1447.     , 1528.     , 1522.     , 1091.00002],\n",
       "       [1059.     , 1686.     , 1559.     , 1215.     ],\n",
       "       [1227.     , 2896.     , 1218.     ,    0.     ],\n",
       "       [   0.     , 2497.     , 2440.     , 2310.     ],\n",
       "       [   0.     , 1266.     ,    0.     , 1290.     ],\n",
       "       [1145.     ,  930.     , 1608.99998, 1274.     ],\n",
       "       [2156.     , 1109.     , 1352.     , 1573.     ],\n",
       "       [1133.     , 1255.     , 1638.     ,  828.     ],\n",
       "       [2433.     , 3127.     , 2836.     , 2853.     ],\n",
       "       [1371.     , 1306.     , 1265.     ,  563.     ],\n",
       "       [1267.     , 1535.     , 1627.     , 1617.00002],\n",
       "       [3819.     , 1447.     , 1528.     , 1522.     ],\n",
       "       [ 828.     , 1191.     , 1549.     , 1314.     ],\n",
       "       [1491.     ,  820.     , 1843.     , 1755.     ],\n",
       "       [1559.     , 1215.     , 1396.     , 1367.     ],\n",
       "       [1177.     ,    0.     , 1256.99998, 1783.     ],\n",
       "       [1408.99998, 1047.     , 1242.     ,    0.     ],\n",
       "       [1163.     , 1210.     , 1462.     , 1413.     ],\n",
       "       [   0.     ,  984.     , 1217.     , 1292.     ],\n",
       "       [1410.     , 1491.     ,  820.     , 1843.     ],\n",
       "       [1026.     ,  593.     , 1160.     ,  761.00002],\n",
       "       [ 563.     , 2563.     , 2201.     , 1366.     ],\n",
       "       [1242.99998, 1145.     ,  930.     , 1608.99998],\n",
       "       [1491.     , 1393.     ,    0.     ,  984.     ],\n",
       "       [2245.00002, 1227.     , 2896.     , 1218.     ],\n",
       "       [1477.99999,    0.     , 1707.     , 1121.     ],\n",
       "       [   0.     , 1242.99998, 1145.     ,  930.     ],\n",
       "       [2015.     , 2496.00002,  815.     , 1489.     ],\n",
       "       [ 624.     ,  796.     ,  863.     ,  701.     ],\n",
       "       [1793.     ,  776.     , 1133.     , 1255.     ],\n",
       "       [1531.     , 1247.     , 2147.     , 2194.     ],\n",
       "       [2246.     , 1934.     , 1701.00002, 2015.     ],\n",
       "       [ 411.     ,  516.     ,  617.     ,  741.     ],\n",
       "       [   0.     , 3090.     ,    0.     , 3840.     ],\n",
       "       [1217.     , 1292.     , 1408.99998, 1047.     ],\n",
       "       [1002.     , 1257.     , 1144.     , 1204.     ],\n",
       "       [ 776.     , 1133.     , 1255.     , 1638.     ],\n",
       "       [1144.     , 1204.     , 1745.     , 1285.     ],\n",
       "       [1510.     , 1771.     , 1243.     ,  939.     ],\n",
       "       [ 915.     , 1634.     , 3478.     , 2235.     ],\n",
       "       [1746.     , 1590.     , 2627.     , 2029.     ],\n",
       "       [3102.9999 , 2245.00002, 1227.     , 2896.     ],\n",
       "       [1627.     , 1617.00002, 2251.     , 1294.     ],\n",
       "       [1469.     , 2193.     , 1656.     , 1783.     ],\n",
       "       [ 761.00002, 1611.     ,  732.     ,  869.     ],\n",
       "       [2853.     , 1477.99999,    0.     , 1707.     ],\n",
       "       [1522.     , 1091.00002, 1002.     , 1059.     ],\n",
       "       [   0.     , 1267.     , 1535.     , 1627.     ],\n",
       "       [ 939.     , 1163.     , 1210.     , 1462.     ],\n",
       "       [1266.     ,    0.     , 1290.     , 2433.     ],\n",
       "       [   0.     , 1092.     , 1211.     , 1245.     ],\n",
       "       [2112.     , 1836.     , 2156.     , 1109.     ],\n",
       "       [2235.     , 1510.     , 1771.     , 1243.     ]])"
      ]
     },
     "execution_count": 198,
     "metadata": {},
     "output_type": "execute_result"
    }
   ],
   "source": [
    "X_train"
   ]
  },
  {
   "cell_type": "code",
   "execution_count": 199,
   "id": "4e015a58",
   "metadata": {},
   "outputs": [
    {
     "data": {
      "text/plain": [
       "RandomForestRegressor(max_depth=2, random_state=0)"
      ]
     },
     "execution_count": 199,
     "metadata": {},
     "output_type": "execute_result"
    }
   ],
   "source": [
    "from sklearn.ensemble import RandomForestRegressor\n",
    "\n",
    "regr = RandomForestRegressor(max_depth=2, random_state=0)\n",
    "\n",
    "regr.fit(X_train, y_train)"
   ]
  },
  {
   "cell_type": "code",
   "execution_count": 200,
   "id": "7872928d",
   "metadata": {},
   "outputs": [],
   "source": [
    "y_pred = regr.predict(X_test)"
   ]
  },
  {
   "cell_type": "code",
   "execution_count": 201,
   "id": "0b6f592f",
   "metadata": {},
   "outputs": [
    {
     "data": {
      "text/plain": [
       "-0.11669959609024327"
      ]
     },
     "execution_count": 201,
     "metadata": {},
     "output_type": "execute_result"
    }
   ],
   "source": [
    "r2_score(y_test, y_pred)"
   ]
  },
  {
   "cell_type": "code",
   "execution_count": 202,
   "id": "301dbbaa",
   "metadata": {},
   "outputs": [
    {
     "data": {
      "text/plain": [
       "624633.0797877763"
      ]
     },
     "execution_count": 202,
     "metadata": {},
     "output_type": "execute_result"
    }
   ],
   "source": [
    "mean_squared_error(y_test, y_pred)"
   ]
  },
  {
   "cell_type": "code",
   "execution_count": 203,
   "id": "befacfe4",
   "metadata": {},
   "outputs": [],
   "source": [
    "#the random forest model has better r squared score and lower mse. Therefore we recommend the random forest model "
   ]
  },
  {
   "cell_type": "code",
   "execution_count": null,
   "id": "bfc06a8e",
   "metadata": {},
   "outputs": [],
   "source": []
  }
 ],
 "metadata": {
  "kernelspec": {
   "display_name": "Python 3",
   "language": "python",
   "name": "python3"
  },
  "language_info": {
   "codemirror_mode": {
    "name": "ipython",
    "version": 3
   },
   "file_extension": ".py",
   "mimetype": "text/x-python",
   "name": "python",
   "nbconvert_exporter": "python",
   "pygments_lexer": "ipython3",
   "version": "3.8.8"
  }
 },
 "nbformat": 4,
 "nbformat_minor": 5
}
